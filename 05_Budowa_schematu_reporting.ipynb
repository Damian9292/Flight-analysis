{
 "cells": [
  {
   "cell_type": "markdown",
   "metadata": {},
   "source": [
    " # Opis notatnika\n",
    " Analiza przygotowana w poprzednim kroku została odebrana pozytywnie. W związku z tym, zostaliśmy poproszeni\n",
    " o przygotowanie raportu na podstawie danych z roku 2020. Ma być on później  wdrożony przez zespół IT na zewnętrzny\n",
    " serwis. Wybór padł na `Dash`.\n",
    "\n",
    " Zadanie wykonamy w dwóch krokach:  \n",
    " 1. Znając wymagania raportu, stworzymy na bazie danych odpowiednie komponenty, które zostaną następnie wykorzystane do wizualizacji.  \n",
    " 1. Stworzymy raport używając `Dash`.\n",
    "\n",
    " Ten notatnik skupia się na odpowiednim przygotowaniu bazy danych pod cele raportowe.\n",
    " \n",
    " W tej części projektu końcowego wcielasz się w rolę BI Engineera, który ma za zadanie stworzyć raport zgodny z wytycznymi biznesowymi dostarczonymi przez klienta."
   ]
  },
  {
   "cell_type": "markdown",
   "metadata": {},
   "source": [
    " # Wymagania biznesowe\n",
    " Po prezentacji wyników analizy na niezależnym spotkaniu, zostały określone następujące obszary raportowania odsetka opóźnień lotów:  \n",
    " 1. Wyświetlanie TOP 10 (w sensie najwyższego odsetka opóźnień) lotnisk na podstawie liczby odlotów, wyświetlona ma być również informacja o liczbie przylotów - widok `top_airports_by_departure`.  \n",
    " 1. Wyświetlenie TOP 10 (w sensie najwyższego odsetka opóźnień) tras lotów. Przy czym istotna dla nas jest kolejność, przykładowo trasa (Warszawa, Paryż) jest inna niż (Paryż, Warszawa). Dodatkowym wymaganiem jest, aby minimalna liczba lotów odbytych na trasie wynosiła co najmniej 10000 przelotów - widok `top_reliability_roads`.  \n",
    " 1. Porównanie roku 2019 vs. 2020, aby śledzić wpływ COVID na realizację lotów. Interesują nas podejścia:  \n",
    "     - miesiąc do miesiąca, przykładowo odsetek opoźnień styczeń 2019 vs. odsetek opoźnień styczeń 2020, odsetek opoźnień luty 2019 vs. odsetek opoźnień luty 2020 itd. - widok `year_to_year_comparision`,  \n",
    "     - dzień do dnia, przykładowo odsetek opoźnień wtorek 2019 vs. odsetek opoźnień wtorek 2020 - widok `day_to_day_comparision`.  \n",
    " 1. Dzienny, czyli jak danego dnia, globalnie wyglądał wskaźnik opóźnień lotów samolotu, tj. odsetek opóźnień 01-01-2019, odsetek opóźnień 02-01-2019 itd."
   ]
  },
  {
   "cell_type": "markdown",
   "metadata": {},
   "source": [
    " # Podejście techniczne do problemu\n",
    " Naszym celem będzie odseparowanie warstwy przygotowania danych (logika raportu) od warstwy prezentacyjnej (wizualizacja).\n",
    " Chcemy zapewnić, aby odpowiednie procesy zajmowały się tylko swoimi zadaniami. \n",
    " \n",
    " > W tym podejściu warstwa prezentacyjna (wykres/raport) nie implementuje logiki biznesowej w celu przetwarzania danych. Innymi słowy, nie chcemy aby przykładowo agregacja była wykonywana w momencie tworzenia wizualizacji.\n",
    "\n",
    " To podejście będzie spójne ze współczesnym sposobem projektowania aplikacji. Ma to też dodatkowy benefit - ze względu na wolumen danych na bazie, nie musimy ich najpierw pobierać - warstwa logiczna je odpowiednio zagreguje i przekaże zdecydowanie mniejszą liczbę wierszy, co przyśpieszy działanie całości.\n",
    "\n",
    " > Logika działania tego notebooka jest zbieżna z tą, którą robiliśmy już na przykładzie `Inicjowania bazy danych` - warto mieć go pod ręką."
   ]
  },
  {
   "cell_type": "markdown",
   "metadata": {},
   "source": [
    " # Przygotowanie bazy danych\n",
    " Na bazie danych, gdzie umieszczone są już dane, wszystko zawarte jest na schemacie `public`. Ponieważ zgodnie z wymaganiami otrzymujemy nowy obszar wykorzystania danych, stworzymy sobie schemat dedykowany - `reporting`.  \n",
    " Dalej stworzymy widoki, które odpowiedzą na zadane wcześniej pytania.\n",
    "\n",
    " > Stworzenie dedykowanego schematu ma więcej korzyści niż nam się wydaje, w ten sposób możemy łatwo wprowadzić zabezpieczenie na dane, które chcemy udostępniać.\n",
    "\n",
    " ## Stworzenie dedykowanego schematu\n",
    " W pliku `reporting.sql` napisz kwerendę, która stworzy (o ile już nie istnieje) schemat `reporting`.\n",
    " Ten temat nie był omawiany w trakcie trwania kursu, jednak łatwo można uzupełnić wiedzę czytając np. [ten](https://www.postgresqltutorial.com/postgresql-administration/postgresql-create-schema/) samouczek."
   ]
  },
  {
   "cell_type": "markdown",
   "metadata": {},
   "source": [
    " # Aktualizacja bazy danych\n",
    " W tym miejscu odpowiednio skonfiguruj połączenie do bazy danych."
   ]
  },
  {
   "cell_type": "markdown",
   "metadata": {},
   "source": [
    " Tutaj zaimportuj potrzebne biblioteki"
   ]
  },
  {
   "cell_type": "code",
   "execution_count": null,
   "metadata": {},
   "outputs": [],
   "source": [
    "import psycopg2\n",
    "import pandas as pd\n",
    "from sqlalchemy import create_engine"
   ]
  },
  {
   "cell_type": "markdown",
   "metadata": {},
   "source": [
    " ## Konfiguracja połączenia\n",
    " Tutaj uzupełnij konfigurację połączenia"
   ]
  },
  {
   "cell_type": "code",
   "execution_count": null,
   "metadata": {},
   "outputs": [],
   "source": [
    "username = 'postgres'\n",
    "password = '9292'\n",
    "host = 'localhost'\n",
    "database = 'airlines'\n",
    "port = 5432"
   ]
  },
  {
   "cell_type": "markdown",
   "metadata": {},
   "source": [
    " Tutaj zdefiniuj zmienną `con` oraz `cursor`"
   ]
  },
  {
   "cell_type": "code",
   "execution_count": null,
   "metadata": {},
   "outputs": [],
   "source": [
    "conn = psycopg2.connect(\n",
    "    dbname=database,\n",
    "    user=username,\n",
    "    password=password,\n",
    "    host=host,\n",
    "    port=port\n",
    ")\n",
    "cursor = conn.cursor()"
   ]
  },
  {
   "cell_type": "code",
   "execution_count": null,
   "metadata": {},
   "outputs": [],
   "source": [
    "# Sprawdź, czy połączenie działa\n",
    "cur = conn.cursor()\n",
    "cur.execute('SELECT version();')\n",
    "print(cur.fetchone()[0])  # Wyświetl wersję PostgreSQL"
   ]
  },
  {
   "cell_type": "markdown",
   "metadata": {},
   "source": [
    " ## Wczytanie pliku `reporting.sql`\n",
    " Z katalogu `sql` wczytaj plik `reporting.sql`"
   ]
  },
  {
   "cell_type": "code",
   "execution_count": null,
   "metadata": {},
   "outputs": [],
   "source": [
    "with open(\"C:/Users/User/OneDrive - AEI/Pulpit/Pliki_do_Portfolio_Lab/sql/reporting.sql\", 'r', encoding='utf-8') as reporting_file:\n",
    "    reporting_sql = reporting_file.read()"
   ]
  },
  {
   "cell_type": "markdown",
   "metadata": {},
   "source": [
    " W tym miejscu odpowiednio rozdziel zawartość pliku `reporting.sql` na mniejsze kwerendy używając `;`"
   ]
  },
  {
   "cell_type": "code",
   "execution_count": null,
   "metadata": {},
   "outputs": [],
   "source": [
    "# Podziel zawartość na mniejsze kwerendy, używając średnika jako separatora\n",
    "queries = reporting_sql.split(';')\n",
    "\n",
    "# Wyświetl każdą kwerendę\n",
    "for i, query in enumerate(queries):\n",
    "    print(f\"Kwerenda {i + 1}:\\n{query.strip()}\\n\")"
   ]
  },
  {
   "cell_type": "markdown",
   "metadata": {},
   "source": [
    " W tym miejscu wykonaj każdą z kwerend, aby zainicjować strukturę bazy danych"
   ]
  },
  {
   "cell_type": "code",
   "execution_count": null,
   "metadata": {},
   "outputs": [],
   "source": [
    "# Utworzenie kursora\n",
    "cur = conn.cursor()\n",
    "# Wykonanie kwerendy SQL\n",
    "cur.execute(\"CREATE SCHEMA IF NOT EXISTS reporting\")\n",
    "# Potwierdzenie operacji i zakończenie połączenia\n",
    "conn.commit()\n",
    "\n",
    "# Definicja widoku reporting.flight\n",
    "reporting_flight = \"\"\"\n",
    "CREATE OR REPLACE VIEW reporting.flight AS\n",
    "SELECT\n",
    "    *,\n",
    "    CASE\n",
    "        WHEN dep_delay_new > 0 THEN 1\n",
    "        ELSE 0\n",
    "    END AS is_delayed\n",
    "FROM\n",
    "    public.flight\n",
    "WHERE\n",
    "    cancelled = 0\n",
    "\"\"\"\n",
    "\n",
    "# Definicja widoku reporting.top_reliability_roads\n",
    "reporting_top_reliability_roads = \"\"\"\n",
    "CREATE OR REPLACE VIEW reporting.top_reliability_roads AS\n",
    "SELECT\n",
    "    subq.origin_airport_id,\n",
    "    a.name AS origin_airport_name,\n",
    "    subq.dest_airport_id,\n",
    "    b.name AS dest_airport_name,\n",
    "    subq.year,\n",
    "    subq.cnt,\n",
    "    subq.reliability,\n",
    "    DENSE_RANK() OVER (PARTITION BY subq.year ORDER BY subq.reliability DESC) AS nb\n",
    "FROM\n",
    "    (SELECT\n",
    "        f.origin_airport_id,\n",
    "        f.dest_airport_id,\n",
    "        f.year,\n",
    "        COUNT(*) AS cnt,\n",
    "        100.0 * SUM(CASE WHEN f.dep_delay_new > 0 THEN 1 ELSE 0 END) / COUNT(*) AS reliability\n",
    "    FROM\n",
    "        public.flight AS f\n",
    "    GROUP BY\n",
    "        f.origin_airport_id,\n",
    "        f.dest_airport_id,\n",
    "        f.year\n",
    "    HAVING\n",
    "        COUNT(*) > 10000) AS subq\n",
    "JOIN\n",
    "    airport_list AS a ON subq.origin_airport_id = a.origin_airport_id\n",
    "JOIN\n",
    "    airport_list AS b ON subq.dest_airport_id = b.origin_airport_id\n",
    "\"\"\"\n",
    "\n",
    "# Definicja widoku reporting.year_to_year_comparision\n",
    "reporting_year_to_year_comparision = \"\"\"\n",
    "CREATE OR REPLACE VIEW reporting.year_to_year_comparision AS\n",
    "SELECT\n",
    "    f.year,\n",
    "    f.month,\n",
    "    COUNT(*) AS flights_amount,\n",
    "    100.0 * SUM(CASE WHEN f.dep_delay_new > 0 THEN 1 ELSE 0 END) / COUNT(*) AS reliability\n",
    "FROM\n",
    "    public.flight AS f\n",
    "GROUP BY\n",
    "    f.year,\n",
    "    f.month\n",
    "\"\"\"\n",
    "# Definicja widoku reporting.day_to_day_comparision\n",
    "reporting_day_to_day_comparision = \"\"\"\n",
    "CREATE OR REPLACE VIEW reporting.day_to_day_comparision AS\n",
    "SELECT\n",
    "    f.year,\n",
    "    f.day_of_week,\n",
    "    COUNT(*) AS flights_amount\n",
    "FROM\n",
    "    public.flight AS f\n",
    "GROUP BY\n",
    "    f.year,\n",
    "    f.day_of_week\n",
    "\"\"\"\n",
    "\n",
    "# Definicja widoku reporting.day_by_day_reliability\n",
    "reporting_day_by_day_reliability = \"\"\"\n",
    "CREATE OR REPLACE VIEW reporting.day_by_day_reliability AS\n",
    "SELECT\n",
    "    TO_DATE(CONCAT(f.year, '-', LPAD(f.month::text, 2, '0'), '-', LPAD(f.day_of_week::text, 2, '0')), 'YYYY-MM-DD') AS date,\n",
    "    100.0 * SUM(CASE WHEN f.dep_delay_new > 0 THEN 1 ELSE 0 END) / COUNT(*) AS reliability\n",
    "FROM\n",
    "    public.flight AS f\n",
    "GROUP BY\n",
    "    f.year,\n",
    "    f.month,\n",
    "    f.day_of_month;\n",
    "\"\"\""
   ]
  },
  {
   "cell_type": "markdown",
   "metadata": {},
   "source": [
    " Zatwierdzenie wszystkich operacji na bazie, czyli stworzenie widoków"
   ]
  },
  {
   "cell_type": "code",
   "execution_count": null,
   "metadata": {},
   "outputs": [],
   "source": [
    "cur = conn.cursor()\n",
    "\n",
    "# Wykonanie zapytań SQL\n",
    "queries = [\n",
    "    reporting_flight,\n",
    "    reporting_top_reliability_roads,\n",
    "    reporting_year_to_year_comparision,\n",
    "    reporting_day_to_day_comparision,\n",
    "    reporting_day_by_day_reliability\n",
    "]\n",
    "\n",
    "for query in queries:\n",
    "    cur.execute(query)\n",
    "\n",
    "# Zatwierdzenie zmian i zamknięcie połączenia\n",
    "conn.commit()"
   ]
  },
  {
   "cell_type": "markdown",
   "metadata": {},
   "source": [
    " ### Sprawdzenie"
   ]
  },
  {
   "cell_type": "code",
   "execution_count": null,
   "metadata": {},
   "outputs": [],
   "source": [
    "# Ten kod chyba wygląda znajomo....\n",
    "# istnienie widoków możemy sprawdzić tak samo jak tabele\n",
    "def check_if_table_exists(table_name):\n",
    "    msg = f\"Sprawdzam czy istnieje tabela {table_name}\"\n",
    "    print(msg)\n",
    "\n",
    "    query = f\"select 1 from {table_name}\"\n",
    "    # jeżeli tabela nie istnieje, ten krok zwróci wyjątek\n",
    "    cursor.execute(query)\n",
    "    print('OK!')"
   ]
  },
  {
   "cell_type": "code",
   "execution_count": null,
   "metadata": {},
   "outputs": [],
   "source": [
    "views_to_test = [\n",
    "    'reporting.flight',\n",
    "    'reporting.top_reliability_roads',\n",
    "    'reporting.year_to_year_comparision',\n",
    "    'reporting.day_to_day_comparision',\n",
    "    'reporting.day_by_day_reliability'\n",
    "]"
   ]
  },
  {
   "cell_type": "code",
   "execution_count": null,
   "metadata": {},
   "outputs": [],
   "source": [
    "for view in views_to_test:\n",
    "    check_if_table_exists(view)"
   ]
  },
  {
   "cell_type": "code",
   "execution_count": null,
   "metadata": {},
   "outputs": [],
   "source": [
    "conn.close()\n",
    "msg = \"Wszystko wygląda OK :) Możesz przejść do kolejnego zadania.\"\n",
    "print(msg)"
   ]
  },
  {
   "cell_type": "markdown",
   "metadata": {},
   "source": [
    " # Podsumownie\n",
    " W tym notatniku stworzyliśmy nowy schemat - `reporting`, którego zadaniem jest przygotowanie naszych danych\n",
    " do wizualizacji. Dalsza część pracy będzie polegała na wyświetleniu w wizualnie atrakcyjny sposób danych w interaktywnym raporcie stworzonym\n",
    " z pomocą `Dash`."
   ]
  }
 ],
 "metadata": {
  "kernelspec": {
   "display_name": "Python 3 (ipykernel)",
   "language": "python",
   "name": "python3"
  },
  "language_info": {
   "codemirror_mode": {
    "name": "ipython",
    "version": 3
   },
   "file_extension": ".py",
   "mimetype": "text/x-python",
   "name": "python",
   "nbconvert_exporter": "python",
   "pygments_lexer": "ipython3",
   "version": "3.11.5"
  },
  "vscode": {
   "interpreter": {
    "hash": "38d75d0df746d7f75dd34c5d1915af59cb55786647bd68b8d9064425d7680b12"
   }
  }
 },
 "nbformat": 4,
 "nbformat_minor": 2
}
