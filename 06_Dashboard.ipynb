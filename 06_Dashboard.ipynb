{
 "cells": [
  {
   "cell_type": "markdown",
   "metadata": {},
   "source": [
    " # Opis zadania\n",
    " W tym notatniku stworzymy system analityczno-raportowy, mający wspomagać przyszłe decyzje biznesowe. Dzięki przeprowadzonej wcześniej analizie eksploracyjnej danych, w trakcie spotkania prezentującego wykonaną pracę postanowiono w pierwszym kroku stworzyć następujące wizualizacje danych:\n",
    " - Wyświetlenie TOP 10 tras samolotów pod względem najniższego odsetka opóźnień w formie tabeli,\n",
    " - Wyświetlenie porównania roku 2019 oraz 2020 w formie wykresu słupkowego:\n",
    "     - miesiąc do miesiąca,\n",
    "     - dzień tygodnia do dnia tygodnia,\n",
    " - Wyświetlenie danych dzień po dniu w formie szeregu czasowego.\n",
    "\n",
    "Raport powinien składać się z trzech stron - `TOP report`, `Comparision` i `Day by day reliability`.\n",
    "\n",
    "Pracując na podstawie wcześniej zdefiniowanych widoków, nie musimy się tutaj martwić o przetwarzanie oraz procesowanie danych. Co więcej, wszystkie niuanse techniczne w postaci liczby wierszy, wykonywanych złączeń, filtracji są przeniesione na bazę danych. Z technicznego punktu widzenia, pomiędzy serwisem a bazą danych dochodzi do przesyłania mniejszej ilości danych.\n",
    "\n",
    "Dopuszczamy jednak pewne aktualizacje co do ich struktury przykładowo poprzez _pivotowanie_, czyli obranie i doprowadzanie do postaci tej znanej z tabel przestawnych.\n",
    "\n",
    "> **Uwaga:**  \n",
    "> Przy pracy nad poprawkami w dashboardzie, pamiętaj, że aby odświeżyć stronę po wprowadzonych zmianach, należy **całość** uruchomić ponownie.\n",
    "\n",
    "W tej części projektu końcowego wcielasz się ponownie w rolę BI Developera, który ma za zadanie stworzyć dashboard zgodny z wytycznymi biznesowymi dostarczonymi przez klienta. Pamiętaj, że osoba na tym stanowisku często ma kontakt z biznesem więc musi umieć przekazać informację o danych, które zawarła na dashboardzie by te zaangażowały odbiorców.\n"
   ]
  },
  {
   "cell_type": "markdown",
   "metadata": {},
   "source": [
    " Tutaj zaimportuj potrzebne biblioteki"
   ]
  },
  {
   "cell_type": "code",
   "execution_count": 108,
   "metadata": {},
   "outputs": [],
   "source": [
    "import psycopg2\n",
    "import pandas as pd\n",
    "from sqlalchemy import create_engine\n",
    "import dash\n",
    "import plotly.express as px\n",
    "import plotly.graph_objects as go\n",
    "import dash_core_components as dcc\n",
    "import dash_html_components as html\n",
    "import dash_table\n",
    "from dash import dash_table\n",
    "from dash.dependencies import Input, Output\n",
    "import threading\n",
    "import webbrowser"
   ]
  },
  {
   "cell_type": "markdown",
   "metadata": {},
   "source": [
    " ## Konfiguracja połączenia\n",
    " Tutaj uzupełnij konfigurację połączenia"
   ]
  },
  {
   "cell_type": "code",
   "execution_count": 57,
   "metadata": {},
   "outputs": [],
   "source": [
    "username = 'postgres'\n",
    "password = '9292'\n",
    "host = 'localhost'\n",
    "database = 'airlines'\n",
    "port = 5432"
   ]
  },
  {
   "cell_type": "markdown",
   "metadata": {},
   "source": [
    " Tutaj zdefiniuj zmienną `con` oraz `cursor`"
   ]
  },
  {
   "cell_type": "code",
   "execution_count": 58,
   "metadata": {},
   "outputs": [],
   "source": [
    "conn = psycopg2.connect(\n",
    "    dbname=database,\n",
    "    user=username,\n",
    "    password=password,\n",
    "    host=host,\n",
    "    port=port\n",
    ")\n",
    "cursor = conn.cursor()"
   ]
  },
  {
   "cell_type": "markdown",
   "metadata": {},
   "source": [
    " # Stworzenie tabeli dla `TOP 10 routes`\n",
    " W tym miejscu przygotujemy tabelkę oraz komponent, który zostanie następnie umieszczony w raporcie. Tabela powinna się składać z następujących kolumn:\n",
    " - Origin,\n",
    " - Destination,\n",
    " - Year,\n",
    " - Reliability,\n",
    " - Rank.\n",
    "\n",
    "Wartości procentowe zaś powinny być postaci np. 13.87%.\n",
    "\n",
    "Z tego względu konieczna będzie zmiana nazw kolumn dla wyników raportowania.\n",
    "\n",
    "Wskazówki:\n",
    " - `Python - analiza danych > Dzień 5 - Pandas > Obróbka danych - część 2 > apply`,\n",
    " - [How to format percentage in python](https://stackoverflow.com/questions/5306756/how-to-print-a-percentage-value-in-python)."
   ]
  },
  {
   "cell_type": "markdown",
   "metadata": {},
   "source": [
    " Tutaj zaczytaj dane do ramki danych `top_routes_df` z widoku `reporting.top_reliability_roads`\n",
    " > Jeśli pojawi się komunikat `UserWarning: pandas only support SQLAlchemy`, z naszego punktu widzenia, możemy go śmiało zignorować."
   ]
  },
  {
   "cell_type": "code",
   "execution_count": 59,
   "metadata": {},
   "outputs": [
    {
     "name": "stderr",
     "output_type": "stream",
     "text": [
      "C:\\Users\\User\\AppData\\Local\\Temp\\ipykernel_12748\\432420151.py:5: UserWarning:\n",
      "\n",
      "pandas only supports SQLAlchemy connectable (engine/connection) or database string URI or sqlite3 DBAPI2 connection. Other DBAPI2 objects are not tested. Please consider using SQLAlchemy.\n",
      "\n"
     ]
    },
    {
     "data": {
      "text/html": [
       "<div>\n",
       "<style scoped>\n",
       "    .dataframe tbody tr th:only-of-type {\n",
       "        vertical-align: middle;\n",
       "    }\n",
       "\n",
       "    .dataframe tbody tr th {\n",
       "        vertical-align: top;\n",
       "    }\n",
       "\n",
       "    .dataframe thead th {\n",
       "        text-align: right;\n",
       "    }\n",
       "</style>\n",
       "<table border=\"1\" class=\"dataframe\">\n",
       "  <thead>\n",
       "    <tr style=\"text-align: right;\">\n",
       "      <th></th>\n",
       "      <th>origin_airport_id</th>\n",
       "      <th>origin_airport_name</th>\n",
       "      <th>dest_airport_id</th>\n",
       "      <th>dest_airport_name</th>\n",
       "      <th>year</th>\n",
       "      <th>cnt</th>\n",
       "      <th>reliability</th>\n",
       "      <th>nb</th>\n",
       "    </tr>\n",
       "  </thead>\n",
       "  <tbody>\n",
       "    <tr>\n",
       "      <th>0</th>\n",
       "      <td>13930</td>\n",
       "      <td>CHICAGO OHARE INTERNATIONAL AIRPORT, IL US</td>\n",
       "      <td>12953</td>\n",
       "      <td>LAGUARDIA AIRPORT, NY US</td>\n",
       "      <td>2019</td>\n",
       "      <td>14702</td>\n",
       "      <td>40.246225</td>\n",
       "      <td>1</td>\n",
       "    </tr>\n",
       "    <tr>\n",
       "      <th>1</th>\n",
       "      <td>12892</td>\n",
       "      <td>LOS ANGELES INTERNATIONAL AIRPORT, CA US</td>\n",
       "      <td>12478</td>\n",
       "      <td>LAGUARDIA AIRPORT, NY US</td>\n",
       "      <td>2019</td>\n",
       "      <td>12862</td>\n",
       "      <td>38.368838</td>\n",
       "      <td>2</td>\n",
       "    </tr>\n",
       "    <tr>\n",
       "      <th>2</th>\n",
       "      <td>12892</td>\n",
       "      <td>LOS ANGELES INTERNATIONAL AIRPORT, CA US</td>\n",
       "      <td>12889</td>\n",
       "      <td>MCCARRAN INTERNATIONAL AIRPORT, NV US</td>\n",
       "      <td>2019</td>\n",
       "      <td>11722</td>\n",
       "      <td>37.348575</td>\n",
       "      <td>3</td>\n",
       "    </tr>\n",
       "    <tr>\n",
       "      <th>3</th>\n",
       "      <td>12889</td>\n",
       "      <td>MCCARRAN INTERNATIONAL AIRPORT, NV US</td>\n",
       "      <td>12892</td>\n",
       "      <td>LOS ANGELES INTERNATIONAL AIRPORT, CA US</td>\n",
       "      <td>2019</td>\n",
       "      <td>11718</td>\n",
       "      <td>36.337259</td>\n",
       "      <td>4</td>\n",
       "    </tr>\n",
       "    <tr>\n",
       "      <th>4</th>\n",
       "      <td>12892</td>\n",
       "      <td>LOS ANGELES INTERNATIONAL AIRPORT, CA US</td>\n",
       "      <td>14771</td>\n",
       "      <td>SAN FRANCISCO INTERNATIONAL AIRPORT, CA US</td>\n",
       "      <td>2019</td>\n",
       "      <td>14630</td>\n",
       "      <td>35.324675</td>\n",
       "      <td>5</td>\n",
       "    </tr>\n",
       "  </tbody>\n",
       "</table>\n",
       "</div>"
      ],
      "text/plain": [
       "   origin_airport_id                         origin_airport_name  \\\n",
       "0              13930  CHICAGO OHARE INTERNATIONAL AIRPORT, IL US   \n",
       "1              12892    LOS ANGELES INTERNATIONAL AIRPORT, CA US   \n",
       "2              12892    LOS ANGELES INTERNATIONAL AIRPORT, CA US   \n",
       "3              12889       MCCARRAN INTERNATIONAL AIRPORT, NV US   \n",
       "4              12892    LOS ANGELES INTERNATIONAL AIRPORT, CA US   \n",
       "\n",
       "   dest_airport_id                           dest_airport_name  year    cnt  \\\n",
       "0            12953                    LAGUARDIA AIRPORT, NY US  2019  14702   \n",
       "1            12478                    LAGUARDIA AIRPORT, NY US  2019  12862   \n",
       "2            12889       MCCARRAN INTERNATIONAL AIRPORT, NV US  2019  11722   \n",
       "3            12892    LOS ANGELES INTERNATIONAL AIRPORT, CA US  2019  11718   \n",
       "4            14771  SAN FRANCISCO INTERNATIONAL AIRPORT, CA US  2019  14630   \n",
       "\n",
       "   reliability  nb  \n",
       "0    40.246225   1  \n",
       "1    38.368838   2  \n",
       "2    37.348575   3  \n",
       "3    36.337259   4  \n",
       "4    35.324675   5  "
      ]
     },
     "execution_count": 59,
     "metadata": {},
     "output_type": "execute_result"
    }
   ],
   "source": [
    "# Zdefiniuj zapytanie SQL, które pobierze dane z widoku\n",
    "query = \"SELECT * FROM reporting.top_reliability_roads\"\n",
    "\n",
    "# Wczytaj dane z widoku do ramki danych\n",
    "top_routes_df = pd.read_sql_query(query, conn)\n",
    "\n",
    "# Wyświetl kilka pierwszych wierszy ramki danych\n",
    "top_routes_df.head()"
   ]
  },
  {
   "cell_type": "markdown",
   "metadata": {},
   "source": [
    " Tutaj dokonaj aktualizacji formatu liczbowego dla kolumny `reliability`"
   ]
  },
  {
   "cell_type": "code",
   "execution_count": 60,
   "metadata": {},
   "outputs": [
    {
     "data": {
      "text/html": [
       "<div>\n",
       "<style scoped>\n",
       "    .dataframe tbody tr th:only-of-type {\n",
       "        vertical-align: middle;\n",
       "    }\n",
       "\n",
       "    .dataframe tbody tr th {\n",
       "        vertical-align: top;\n",
       "    }\n",
       "\n",
       "    .dataframe thead th {\n",
       "        text-align: right;\n",
       "    }\n",
       "</style>\n",
       "<table border=\"1\" class=\"dataframe\">\n",
       "  <thead>\n",
       "    <tr style=\"text-align: right;\">\n",
       "      <th></th>\n",
       "      <th>origin_airport_id</th>\n",
       "      <th>origin_airport_name</th>\n",
       "      <th>dest_airport_id</th>\n",
       "      <th>dest_airport_name</th>\n",
       "      <th>year</th>\n",
       "      <th>cnt</th>\n",
       "      <th>reliability</th>\n",
       "      <th>nb</th>\n",
       "    </tr>\n",
       "  </thead>\n",
       "  <tbody>\n",
       "    <tr>\n",
       "      <th>0</th>\n",
       "      <td>13930</td>\n",
       "      <td>CHICAGO OHARE INTERNATIONAL AIRPORT, IL US</td>\n",
       "      <td>12953</td>\n",
       "      <td>LAGUARDIA AIRPORT, NY US</td>\n",
       "      <td>2019</td>\n",
       "      <td>14702</td>\n",
       "      <td>40%</td>\n",
       "      <td>1</td>\n",
       "    </tr>\n",
       "    <tr>\n",
       "      <th>1</th>\n",
       "      <td>12892</td>\n",
       "      <td>LOS ANGELES INTERNATIONAL AIRPORT, CA US</td>\n",
       "      <td>12478</td>\n",
       "      <td>LAGUARDIA AIRPORT, NY US</td>\n",
       "      <td>2019</td>\n",
       "      <td>12862</td>\n",
       "      <td>38%</td>\n",
       "      <td>2</td>\n",
       "    </tr>\n",
       "    <tr>\n",
       "      <th>2</th>\n",
       "      <td>12892</td>\n",
       "      <td>LOS ANGELES INTERNATIONAL AIRPORT, CA US</td>\n",
       "      <td>12889</td>\n",
       "      <td>MCCARRAN INTERNATIONAL AIRPORT, NV US</td>\n",
       "      <td>2019</td>\n",
       "      <td>11722</td>\n",
       "      <td>37%</td>\n",
       "      <td>3</td>\n",
       "    </tr>\n",
       "    <tr>\n",
       "      <th>3</th>\n",
       "      <td>12889</td>\n",
       "      <td>MCCARRAN INTERNATIONAL AIRPORT, NV US</td>\n",
       "      <td>12892</td>\n",
       "      <td>LOS ANGELES INTERNATIONAL AIRPORT, CA US</td>\n",
       "      <td>2019</td>\n",
       "      <td>11718</td>\n",
       "      <td>36%</td>\n",
       "      <td>4</td>\n",
       "    </tr>\n",
       "    <tr>\n",
       "      <th>4</th>\n",
       "      <td>12892</td>\n",
       "      <td>LOS ANGELES INTERNATIONAL AIRPORT, CA US</td>\n",
       "      <td>14771</td>\n",
       "      <td>SAN FRANCISCO INTERNATIONAL AIRPORT, CA US</td>\n",
       "      <td>2019</td>\n",
       "      <td>14630</td>\n",
       "      <td>35%</td>\n",
       "      <td>5</td>\n",
       "    </tr>\n",
       "    <tr>\n",
       "      <th>5</th>\n",
       "      <td>12953</td>\n",
       "      <td>LAGUARDIA AIRPORT, NY US</td>\n",
       "      <td>13930</td>\n",
       "      <td>CHICAGO OHARE INTERNATIONAL AIRPORT, IL US</td>\n",
       "      <td>2019</td>\n",
       "      <td>14699</td>\n",
       "      <td>35%</td>\n",
       "      <td>6</td>\n",
       "    </tr>\n",
       "    <tr>\n",
       "      <th>6</th>\n",
       "      <td>10721</td>\n",
       "      <td>BOSTON, MA US</td>\n",
       "      <td>12953</td>\n",
       "      <td>LAGUARDIA AIRPORT, NY US</td>\n",
       "      <td>2019</td>\n",
       "      <td>10303</td>\n",
       "      <td>34%</td>\n",
       "      <td>7</td>\n",
       "    </tr>\n",
       "    <tr>\n",
       "      <th>7</th>\n",
       "      <td>12953</td>\n",
       "      <td>LAGUARDIA AIRPORT, NY US</td>\n",
       "      <td>10721</td>\n",
       "      <td>BOSTON, MA US</td>\n",
       "      <td>2019</td>\n",
       "      <td>10309</td>\n",
       "      <td>34%</td>\n",
       "      <td>8</td>\n",
       "    </tr>\n",
       "    <tr>\n",
       "      <th>8</th>\n",
       "      <td>14771</td>\n",
       "      <td>SAN FRANCISCO INTERNATIONAL AIRPORT, CA US</td>\n",
       "      <td>12892</td>\n",
       "      <td>LOS ANGELES INTERNATIONAL AIRPORT, CA US</td>\n",
       "      <td>2019</td>\n",
       "      <td>14614</td>\n",
       "      <td>33%</td>\n",
       "      <td>9</td>\n",
       "    </tr>\n",
       "    <tr>\n",
       "      <th>9</th>\n",
       "      <td>12478</td>\n",
       "      <td>LAGUARDIA AIRPORT, NY US</td>\n",
       "      <td>12892</td>\n",
       "      <td>LOS ANGELES INTERNATIONAL AIRPORT, CA US</td>\n",
       "      <td>2019</td>\n",
       "      <td>12804</td>\n",
       "      <td>27%</td>\n",
       "      <td>10</td>\n",
       "    </tr>\n",
       "    <tr>\n",
       "      <th>10</th>\n",
       "      <td>13830</td>\n",
       "      <td>HONOLULU INTERNATIONAL AIRPORT, HI US</td>\n",
       "      <td>12173</td>\n",
       "      <td>LOS ANGELES INTERNATIONAL AIRPORT, CA US</td>\n",
       "      <td>2019</td>\n",
       "      <td>10738</td>\n",
       "      <td>27%</td>\n",
       "      <td>11</td>\n",
       "    </tr>\n",
       "    <tr>\n",
       "      <th>11</th>\n",
       "      <td>12173</td>\n",
       "      <td>LOS ANGELES INTERNATIONAL AIRPORT, CA US</td>\n",
       "      <td>13830</td>\n",
       "      <td>HONOLULU INTERNATIONAL AIRPORT, HI US</td>\n",
       "      <td>2019</td>\n",
       "      <td>10735</td>\n",
       "      <td>25%</td>\n",
       "      <td>12</td>\n",
       "    </tr>\n",
       "  </tbody>\n",
       "</table>\n",
       "</div>"
      ],
      "text/plain": [
       "    origin_airport_id                         origin_airport_name  \\\n",
       "0               13930  CHICAGO OHARE INTERNATIONAL AIRPORT, IL US   \n",
       "1               12892    LOS ANGELES INTERNATIONAL AIRPORT, CA US   \n",
       "2               12892    LOS ANGELES INTERNATIONAL AIRPORT, CA US   \n",
       "3               12889       MCCARRAN INTERNATIONAL AIRPORT, NV US   \n",
       "4               12892    LOS ANGELES INTERNATIONAL AIRPORT, CA US   \n",
       "5               12953                    LAGUARDIA AIRPORT, NY US   \n",
       "6               10721                               BOSTON, MA US   \n",
       "7               12953                    LAGUARDIA AIRPORT, NY US   \n",
       "8               14771  SAN FRANCISCO INTERNATIONAL AIRPORT, CA US   \n",
       "9               12478                    LAGUARDIA AIRPORT, NY US   \n",
       "10              13830       HONOLULU INTERNATIONAL AIRPORT, HI US   \n",
       "11              12173    LOS ANGELES INTERNATIONAL AIRPORT, CA US   \n",
       "\n",
       "    dest_airport_id                           dest_airport_name  year    cnt  \\\n",
       "0             12953                    LAGUARDIA AIRPORT, NY US  2019  14702   \n",
       "1             12478                    LAGUARDIA AIRPORT, NY US  2019  12862   \n",
       "2             12889       MCCARRAN INTERNATIONAL AIRPORT, NV US  2019  11722   \n",
       "3             12892    LOS ANGELES INTERNATIONAL AIRPORT, CA US  2019  11718   \n",
       "4             14771  SAN FRANCISCO INTERNATIONAL AIRPORT, CA US  2019  14630   \n",
       "5             13930  CHICAGO OHARE INTERNATIONAL AIRPORT, IL US  2019  14699   \n",
       "6             12953                    LAGUARDIA AIRPORT, NY US  2019  10303   \n",
       "7             10721                               BOSTON, MA US  2019  10309   \n",
       "8             12892    LOS ANGELES INTERNATIONAL AIRPORT, CA US  2019  14614   \n",
       "9             12892    LOS ANGELES INTERNATIONAL AIRPORT, CA US  2019  12804   \n",
       "10            12173    LOS ANGELES INTERNATIONAL AIRPORT, CA US  2019  10738   \n",
       "11            13830       HONOLULU INTERNATIONAL AIRPORT, HI US  2019  10735   \n",
       "\n",
       "   reliability  nb  \n",
       "0          40%   1  \n",
       "1          38%   2  \n",
       "2          37%   3  \n",
       "3          36%   4  \n",
       "4          35%   5  \n",
       "5          35%   6  \n",
       "6          34%   7  \n",
       "7          34%   8  \n",
       "8          33%   9  \n",
       "9          27%  10  \n",
       "10         27%  11  \n",
       "11         25%  12  "
      ]
     },
     "execution_count": 60,
     "metadata": {},
     "output_type": "execute_result"
    }
   ],
   "source": [
    "# Konwersja kolumny \"reliability\" na format procentowy\n",
    "top_routes_df[\"reliability\"] = top_routes_df[\"reliability\"].apply(lambda x: f\"{x:.0f}%\")\n",
    "top_routes_df"
   ]
  },
  {
   "cell_type": "markdown",
   "metadata": {},
   "source": [
    " Tutaj odpowiednio dokonaj zmian nazewnictwa kolumn"
   ]
  },
  {
   "cell_type": "code",
   "execution_count": 61,
   "metadata": {},
   "outputs": [
    {
     "name": "stderr",
     "output_type": "stream",
     "text": [
      "C:\\Users\\User\\AppData\\Local\\Temp\\ipykernel_12748\\1940972234.py:6: SettingWithCopyWarning:\n",
      "\n",
      "\n",
      "A value is trying to be set on a copy of a slice from a DataFrame\n",
      "\n",
      "See the caveats in the documentation: https://pandas.pydata.org/pandas-docs/stable/user_guide/indexing.html#returning-a-view-versus-a-copy\n",
      "\n"
     ]
    },
    {
     "data": {
      "text/html": [
       "<div>\n",
       "<style scoped>\n",
       "    .dataframe tbody tr th:only-of-type {\n",
       "        vertical-align: middle;\n",
       "    }\n",
       "\n",
       "    .dataframe tbody tr th {\n",
       "        vertical-align: top;\n",
       "    }\n",
       "\n",
       "    .dataframe thead th {\n",
       "        text-align: right;\n",
       "    }\n",
       "</style>\n",
       "<table border=\"1\" class=\"dataframe\">\n",
       "  <thead>\n",
       "    <tr style=\"text-align: right;\">\n",
       "      <th></th>\n",
       "      <th>Origin</th>\n",
       "      <th>Destination</th>\n",
       "      <th>year</th>\n",
       "      <th>reliability</th>\n",
       "      <th>Rank</th>\n",
       "    </tr>\n",
       "  </thead>\n",
       "  <tbody>\n",
       "    <tr>\n",
       "      <th>0</th>\n",
       "      <td>CHICAGO OHARE INTERNATIONAL AIRPORT, IL US</td>\n",
       "      <td>LAGUARDIA AIRPORT, NY US</td>\n",
       "      <td>2019</td>\n",
       "      <td>40%</td>\n",
       "      <td>1</td>\n",
       "    </tr>\n",
       "    <tr>\n",
       "      <th>1</th>\n",
       "      <td>LOS ANGELES INTERNATIONAL AIRPORT, CA US</td>\n",
       "      <td>LAGUARDIA AIRPORT, NY US</td>\n",
       "      <td>2019</td>\n",
       "      <td>38%</td>\n",
       "      <td>2</td>\n",
       "    </tr>\n",
       "    <tr>\n",
       "      <th>2</th>\n",
       "      <td>LOS ANGELES INTERNATIONAL AIRPORT, CA US</td>\n",
       "      <td>MCCARRAN INTERNATIONAL AIRPORT, NV US</td>\n",
       "      <td>2019</td>\n",
       "      <td>37%</td>\n",
       "      <td>3</td>\n",
       "    </tr>\n",
       "    <tr>\n",
       "      <th>3</th>\n",
       "      <td>MCCARRAN INTERNATIONAL AIRPORT, NV US</td>\n",
       "      <td>LOS ANGELES INTERNATIONAL AIRPORT, CA US</td>\n",
       "      <td>2019</td>\n",
       "      <td>36%</td>\n",
       "      <td>4</td>\n",
       "    </tr>\n",
       "    <tr>\n",
       "      <th>4</th>\n",
       "      <td>LOS ANGELES INTERNATIONAL AIRPORT, CA US</td>\n",
       "      <td>SAN FRANCISCO INTERNATIONAL AIRPORT, CA US</td>\n",
       "      <td>2019</td>\n",
       "      <td>35%</td>\n",
       "      <td>5</td>\n",
       "    </tr>\n",
       "    <tr>\n",
       "      <th>5</th>\n",
       "      <td>LAGUARDIA AIRPORT, NY US</td>\n",
       "      <td>CHICAGO OHARE INTERNATIONAL AIRPORT, IL US</td>\n",
       "      <td>2019</td>\n",
       "      <td>35%</td>\n",
       "      <td>6</td>\n",
       "    </tr>\n",
       "    <tr>\n",
       "      <th>6</th>\n",
       "      <td>BOSTON, MA US</td>\n",
       "      <td>LAGUARDIA AIRPORT, NY US</td>\n",
       "      <td>2019</td>\n",
       "      <td>34%</td>\n",
       "      <td>7</td>\n",
       "    </tr>\n",
       "    <tr>\n",
       "      <th>7</th>\n",
       "      <td>LAGUARDIA AIRPORT, NY US</td>\n",
       "      <td>BOSTON, MA US</td>\n",
       "      <td>2019</td>\n",
       "      <td>34%</td>\n",
       "      <td>8</td>\n",
       "    </tr>\n",
       "    <tr>\n",
       "      <th>8</th>\n",
       "      <td>SAN FRANCISCO INTERNATIONAL AIRPORT, CA US</td>\n",
       "      <td>LOS ANGELES INTERNATIONAL AIRPORT, CA US</td>\n",
       "      <td>2019</td>\n",
       "      <td>33%</td>\n",
       "      <td>9</td>\n",
       "    </tr>\n",
       "    <tr>\n",
       "      <th>9</th>\n",
       "      <td>LAGUARDIA AIRPORT, NY US</td>\n",
       "      <td>LOS ANGELES INTERNATIONAL AIRPORT, CA US</td>\n",
       "      <td>2019</td>\n",
       "      <td>27%</td>\n",
       "      <td>10</td>\n",
       "    </tr>\n",
       "    <tr>\n",
       "      <th>10</th>\n",
       "      <td>HONOLULU INTERNATIONAL AIRPORT, HI US</td>\n",
       "      <td>LOS ANGELES INTERNATIONAL AIRPORT, CA US</td>\n",
       "      <td>2019</td>\n",
       "      <td>27%</td>\n",
       "      <td>11</td>\n",
       "    </tr>\n",
       "    <tr>\n",
       "      <th>11</th>\n",
       "      <td>LOS ANGELES INTERNATIONAL AIRPORT, CA US</td>\n",
       "      <td>HONOLULU INTERNATIONAL AIRPORT, HI US</td>\n",
       "      <td>2019</td>\n",
       "      <td>25%</td>\n",
       "      <td>12</td>\n",
       "    </tr>\n",
       "  </tbody>\n",
       "</table>\n",
       "</div>"
      ],
      "text/plain": [
       "                                        Origin  \\\n",
       "0   CHICAGO OHARE INTERNATIONAL AIRPORT, IL US   \n",
       "1     LOS ANGELES INTERNATIONAL AIRPORT, CA US   \n",
       "2     LOS ANGELES INTERNATIONAL AIRPORT, CA US   \n",
       "3        MCCARRAN INTERNATIONAL AIRPORT, NV US   \n",
       "4     LOS ANGELES INTERNATIONAL AIRPORT, CA US   \n",
       "5                     LAGUARDIA AIRPORT, NY US   \n",
       "6                                BOSTON, MA US   \n",
       "7                     LAGUARDIA AIRPORT, NY US   \n",
       "8   SAN FRANCISCO INTERNATIONAL AIRPORT, CA US   \n",
       "9                     LAGUARDIA AIRPORT, NY US   \n",
       "10       HONOLULU INTERNATIONAL AIRPORT, HI US   \n",
       "11    LOS ANGELES INTERNATIONAL AIRPORT, CA US   \n",
       "\n",
       "                                   Destination  year reliability  Rank  \n",
       "0                     LAGUARDIA AIRPORT, NY US  2019         40%     1  \n",
       "1                     LAGUARDIA AIRPORT, NY US  2019         38%     2  \n",
       "2        MCCARRAN INTERNATIONAL AIRPORT, NV US  2019         37%     3  \n",
       "3     LOS ANGELES INTERNATIONAL AIRPORT, CA US  2019         36%     4  \n",
       "4   SAN FRANCISCO INTERNATIONAL AIRPORT, CA US  2019         35%     5  \n",
       "5   CHICAGO OHARE INTERNATIONAL AIRPORT, IL US  2019         35%     6  \n",
       "6                     LAGUARDIA AIRPORT, NY US  2019         34%     7  \n",
       "7                                BOSTON, MA US  2019         34%     8  \n",
       "8     LOS ANGELES INTERNATIONAL AIRPORT, CA US  2019         33%     9  \n",
       "9     LOS ANGELES INTERNATIONAL AIRPORT, CA US  2019         27%    10  \n",
       "10    LOS ANGELES INTERNATIONAL AIRPORT, CA US  2019         27%    11  \n",
       "11       HONOLULU INTERNATIONAL AIRPORT, HI US  2019         25%    12  "
      ]
     },
     "execution_count": 61,
     "metadata": {},
     "output_type": "execute_result"
    }
   ],
   "source": [
    "# Wybierz interesujące kolumny z top_routes_df\n",
    "top_routes_df= top_routes_df[['origin_airport_name', 'dest_airport_name', 'year', 'reliability', 'nb']]\n",
    "\n",
    "# Zmień nazwy kolumn\n",
    "nowe_nazwy = {'origin_airport_name': 'Origin', 'dest_airport_name': 'Destination', 'nb': 'Rank'}\n",
    "top_routes_df.rename(columns=nowe_nazwy, inplace=True)\n",
    "top_routes_df"
   ]
  },
  {
   "cell_type": "code",
   "execution_count": 62,
   "metadata": {},
   "outputs": [
    {
     "data": {
      "text/html": [
       "<div>\n",
       "<style scoped>\n",
       "    .dataframe tbody tr th:only-of-type {\n",
       "        vertical-align: middle;\n",
       "    }\n",
       "\n",
       "    .dataframe tbody tr th {\n",
       "        vertical-align: top;\n",
       "    }\n",
       "\n",
       "    .dataframe thead th {\n",
       "        text-align: right;\n",
       "    }\n",
       "</style>\n",
       "<table border=\"1\" class=\"dataframe\">\n",
       "  <thead>\n",
       "    <tr style=\"text-align: right;\">\n",
       "      <th></th>\n",
       "      <th>Origin</th>\n",
       "      <th>Destination</th>\n",
       "      <th>year</th>\n",
       "      <th>reliability</th>\n",
       "      <th>Rank</th>\n",
       "    </tr>\n",
       "  </thead>\n",
       "  <tbody>\n",
       "    <tr>\n",
       "      <th>0</th>\n",
       "      <td>CHICAGO OHARE INTERNATIONAL AIRPORT, IL US</td>\n",
       "      <td>LAGUARDIA AIRPORT, NY US</td>\n",
       "      <td>2019</td>\n",
       "      <td>40%</td>\n",
       "      <td>1</td>\n",
       "    </tr>\n",
       "    <tr>\n",
       "      <th>1</th>\n",
       "      <td>LOS ANGELES INTERNATIONAL AIRPORT, CA US</td>\n",
       "      <td>LAGUARDIA AIRPORT, NY US</td>\n",
       "      <td>2019</td>\n",
       "      <td>38%</td>\n",
       "      <td>2</td>\n",
       "    </tr>\n",
       "    <tr>\n",
       "      <th>2</th>\n",
       "      <td>LOS ANGELES INTERNATIONAL AIRPORT, CA US</td>\n",
       "      <td>MCCARRAN INTERNATIONAL AIRPORT, NV US</td>\n",
       "      <td>2019</td>\n",
       "      <td>37%</td>\n",
       "      <td>3</td>\n",
       "    </tr>\n",
       "    <tr>\n",
       "      <th>3</th>\n",
       "      <td>MCCARRAN INTERNATIONAL AIRPORT, NV US</td>\n",
       "      <td>LOS ANGELES INTERNATIONAL AIRPORT, CA US</td>\n",
       "      <td>2019</td>\n",
       "      <td>36%</td>\n",
       "      <td>4</td>\n",
       "    </tr>\n",
       "    <tr>\n",
       "      <th>4</th>\n",
       "      <td>LOS ANGELES INTERNATIONAL AIRPORT, CA US</td>\n",
       "      <td>SAN FRANCISCO INTERNATIONAL AIRPORT, CA US</td>\n",
       "      <td>2019</td>\n",
       "      <td>35%</td>\n",
       "      <td>5</td>\n",
       "    </tr>\n",
       "    <tr>\n",
       "      <th>5</th>\n",
       "      <td>LAGUARDIA AIRPORT, NY US</td>\n",
       "      <td>CHICAGO OHARE INTERNATIONAL AIRPORT, IL US</td>\n",
       "      <td>2019</td>\n",
       "      <td>35%</td>\n",
       "      <td>6</td>\n",
       "    </tr>\n",
       "    <tr>\n",
       "      <th>6</th>\n",
       "      <td>BOSTON, MA US</td>\n",
       "      <td>LAGUARDIA AIRPORT, NY US</td>\n",
       "      <td>2019</td>\n",
       "      <td>34%</td>\n",
       "      <td>7</td>\n",
       "    </tr>\n",
       "    <tr>\n",
       "      <th>7</th>\n",
       "      <td>LAGUARDIA AIRPORT, NY US</td>\n",
       "      <td>BOSTON, MA US</td>\n",
       "      <td>2019</td>\n",
       "      <td>34%</td>\n",
       "      <td>8</td>\n",
       "    </tr>\n",
       "    <tr>\n",
       "      <th>8</th>\n",
       "      <td>SAN FRANCISCO INTERNATIONAL AIRPORT, CA US</td>\n",
       "      <td>LOS ANGELES INTERNATIONAL AIRPORT, CA US</td>\n",
       "      <td>2019</td>\n",
       "      <td>33%</td>\n",
       "      <td>9</td>\n",
       "    </tr>\n",
       "    <tr>\n",
       "      <th>9</th>\n",
       "      <td>LAGUARDIA AIRPORT, NY US</td>\n",
       "      <td>LOS ANGELES INTERNATIONAL AIRPORT, CA US</td>\n",
       "      <td>2019</td>\n",
       "      <td>27%</td>\n",
       "      <td>10</td>\n",
       "    </tr>\n",
       "  </tbody>\n",
       "</table>\n",
       "</div>"
      ],
      "text/plain": [
       "                                       Origin  \\\n",
       "0  CHICAGO OHARE INTERNATIONAL AIRPORT, IL US   \n",
       "1    LOS ANGELES INTERNATIONAL AIRPORT, CA US   \n",
       "2    LOS ANGELES INTERNATIONAL AIRPORT, CA US   \n",
       "3       MCCARRAN INTERNATIONAL AIRPORT, NV US   \n",
       "4    LOS ANGELES INTERNATIONAL AIRPORT, CA US   \n",
       "5                    LAGUARDIA AIRPORT, NY US   \n",
       "6                               BOSTON, MA US   \n",
       "7                    LAGUARDIA AIRPORT, NY US   \n",
       "8  SAN FRANCISCO INTERNATIONAL AIRPORT, CA US   \n",
       "9                    LAGUARDIA AIRPORT, NY US   \n",
       "\n",
       "                                  Destination  year reliability  Rank  \n",
       "0                    LAGUARDIA AIRPORT, NY US  2019         40%     1  \n",
       "1                    LAGUARDIA AIRPORT, NY US  2019         38%     2  \n",
       "2       MCCARRAN INTERNATIONAL AIRPORT, NV US  2019         37%     3  \n",
       "3    LOS ANGELES INTERNATIONAL AIRPORT, CA US  2019         36%     4  \n",
       "4  SAN FRANCISCO INTERNATIONAL AIRPORT, CA US  2019         35%     5  \n",
       "5  CHICAGO OHARE INTERNATIONAL AIRPORT, IL US  2019         35%     6  \n",
       "6                    LAGUARDIA AIRPORT, NY US  2019         34%     7  \n",
       "7                               BOSTON, MA US  2019         34%     8  \n",
       "8    LOS ANGELES INTERNATIONAL AIRPORT, CA US  2019         33%     9  \n",
       "9    LOS ANGELES INTERNATIONAL AIRPORT, CA US  2019         27%    10  "
      ]
     },
     "execution_count": 62,
     "metadata": {},
     "output_type": "execute_result"
    }
   ],
   "source": [
    "top_routes_df = top_routes_df.head(10)\n",
    "top_routes_df "
   ]
  },
  {
   "cell_type": "markdown",
   "metadata": {},
   "source": [
    " # Porównanie rok do roku (YoY) 2019 vs. 2020\n",
    " W tym miejscu stworzymy wykres oraz komponent, który zostanie następnie umieszczony w raporcie. Wykres powinien przedstawiać porównanie lat 2019 oraz 2020 po miesiącach względem zmiennej `reliability`.\n",
    "\n",
    " > Na wykresie chcemy również przedstawić dane, które nie mają porównania tj. od kwietnia do grudnia 2019.\n",
    "\n",
    "W tym celu wykonamy poniższe zadania:\n",
    " - Przekształcimy tabelkę do formy tabeli przestawnej\n",
    " - Stworzymy wykres słupkowy porównujący dane rok do roku\n",
    " - Opakujemy stworzony wykres w komponent `Dash`\n",
    "\n",
    "Wskazówki:\n",
    " - `Wizualizacja danych > Dzień 3 > Dash`,\n",
    " - `Wizualizacja danych > Dzień 1 > Budowanie wykresów plotly`,\n",
    " - `Python - analiza danych > Dzień 6 - Pandas c.d > Pivot`."
   ]
  },
  {
   "cell_type": "markdown",
   "metadata": {},
   "source": [
    " Tutaj pobierz z widoku `reporting.year_to_year_comparision` dane do ramki `yoy_comparision_df`"
   ]
  },
  {
   "cell_type": "code",
   "execution_count": 63,
   "metadata": {},
   "outputs": [
    {
     "name": "stderr",
     "output_type": "stream",
     "text": [
      "C:\\Users\\User\\AppData\\Local\\Temp\\ipykernel_12748\\3251398265.py:5: UserWarning:\n",
      "\n",
      "pandas only supports SQLAlchemy connectable (engine/connection) or database string URI or sqlite3 DBAPI2 connection. Other DBAPI2 objects are not tested. Please consider using SQLAlchemy.\n",
      "\n"
     ]
    },
    {
     "data": {
      "text/html": [
       "<div>\n",
       "<style scoped>\n",
       "    .dataframe tbody tr th:only-of-type {\n",
       "        vertical-align: middle;\n",
       "    }\n",
       "\n",
       "    .dataframe tbody tr th {\n",
       "        vertical-align: top;\n",
       "    }\n",
       "\n",
       "    .dataframe thead th {\n",
       "        text-align: right;\n",
       "    }\n",
       "</style>\n",
       "<table border=\"1\" class=\"dataframe\">\n",
       "  <thead>\n",
       "    <tr style=\"text-align: right;\">\n",
       "      <th></th>\n",
       "      <th>year</th>\n",
       "      <th>month</th>\n",
       "      <th>flights_amount</th>\n",
       "      <th>reliability</th>\n",
       "    </tr>\n",
       "  </thead>\n",
       "  <tbody>\n",
       "    <tr>\n",
       "      <th>0</th>\n",
       "      <td>2019</td>\n",
       "      <td>1</td>\n",
       "      <td>89455</td>\n",
       "      <td>33.632553</td>\n",
       "    </tr>\n",
       "    <tr>\n",
       "      <th>1</th>\n",
       "      <td>2019</td>\n",
       "      <td>2</td>\n",
       "      <td>81574</td>\n",
       "      <td>39.355677</td>\n",
       "    </tr>\n",
       "    <tr>\n",
       "      <th>2</th>\n",
       "      <td>2019</td>\n",
       "      <td>3</td>\n",
       "      <td>93862</td>\n",
       "      <td>34.953442</td>\n",
       "    </tr>\n",
       "    <tr>\n",
       "      <th>3</th>\n",
       "      <td>2019</td>\n",
       "      <td>4</td>\n",
       "      <td>91434</td>\n",
       "      <td>34.416082</td>\n",
       "    </tr>\n",
       "    <tr>\n",
       "      <th>4</th>\n",
       "      <td>2019</td>\n",
       "      <td>5</td>\n",
       "      <td>96097</td>\n",
       "      <td>37.814916</td>\n",
       "    </tr>\n",
       "  </tbody>\n",
       "</table>\n",
       "</div>"
      ],
      "text/plain": [
       "   year  month  flights_amount  reliability\n",
       "0  2019      1           89455    33.632553\n",
       "1  2019      2           81574    39.355677\n",
       "2  2019      3           93862    34.953442\n",
       "3  2019      4           91434    34.416082\n",
       "4  2019      5           96097    37.814916"
      ]
     },
     "execution_count": 63,
     "metadata": {},
     "output_type": "execute_result"
    }
   ],
   "source": [
    "# Zdefiniuj zapytanie SQL, które pobierze dane z widoku\n",
    "query_2 = \"SELECT * FROM reporting.year_to_year_comparision\"\n",
    "\n",
    "# Wczytaj dane z widoku do ramki danych\n",
    "yoy_comparision_df = pd.read_sql_query(query_2, conn)\n",
    "\n",
    "\n",
    "# Wyświetl kilka pierwszych wierszy ramki danych\n",
    "yoy_comparision_df.head()"
   ]
  },
  {
   "cell_type": "markdown",
   "metadata": {},
   "source": [
    " Tutaj odpowiednio przekształć ramkę, do formy oczekiwanej przez wykres słupkowy. Wyniki zapisz do zmiennej `yoy_comparision_to_plot_df`"
   ]
  },
  {
   "cell_type": "code",
   "execution_count": 64,
   "metadata": {},
   "outputs": [
    {
     "data": {
      "text/html": [
       "<div>\n",
       "<style scoped>\n",
       "    .dataframe tbody tr th:only-of-type {\n",
       "        vertical-align: middle;\n",
       "    }\n",
       "\n",
       "    .dataframe tbody tr th {\n",
       "        vertical-align: top;\n",
       "    }\n",
       "\n",
       "    .dataframe thead th {\n",
       "        text-align: right;\n",
       "    }\n",
       "</style>\n",
       "<table border=\"1\" class=\"dataframe\">\n",
       "  <thead>\n",
       "    <tr style=\"text-align: right;\">\n",
       "      <th>year</th>\n",
       "      <th>2019</th>\n",
       "      <th>2020</th>\n",
       "    </tr>\n",
       "    <tr>\n",
       "      <th>month</th>\n",
       "      <th></th>\n",
       "      <th></th>\n",
       "    </tr>\n",
       "  </thead>\n",
       "  <tbody>\n",
       "    <tr>\n",
       "      <th>1</th>\n",
       "      <td>33.632553</td>\n",
       "      <td>28.086169</td>\n",
       "    </tr>\n",
       "    <tr>\n",
       "      <th>2</th>\n",
       "      <td>39.355677</td>\n",
       "      <td>27.835847</td>\n",
       "    </tr>\n",
       "    <tr>\n",
       "      <th>3</th>\n",
       "      <td>34.953442</td>\n",
       "      <td>15.810285</td>\n",
       "    </tr>\n",
       "    <tr>\n",
       "      <th>4</th>\n",
       "      <td>34.416082</td>\n",
       "      <td>NaN</td>\n",
       "    </tr>\n",
       "    <tr>\n",
       "      <th>5</th>\n",
       "      <td>37.814916</td>\n",
       "      <td>NaN</td>\n",
       "    </tr>\n",
       "    <tr>\n",
       "      <th>6</th>\n",
       "      <td>42.810802</td>\n",
       "      <td>NaN</td>\n",
       "    </tr>\n",
       "    <tr>\n",
       "      <th>7</th>\n",
       "      <td>39.054691</td>\n",
       "      <td>NaN</td>\n",
       "    </tr>\n",
       "    <tr>\n",
       "      <th>8</th>\n",
       "      <td>38.250279</td>\n",
       "      <td>NaN</td>\n",
       "    </tr>\n",
       "    <tr>\n",
       "      <th>9</th>\n",
       "      <td>29.632968</td>\n",
       "      <td>NaN</td>\n",
       "    </tr>\n",
       "    <tr>\n",
       "      <th>10</th>\n",
       "      <td>32.758942</td>\n",
       "      <td>NaN</td>\n",
       "    </tr>\n",
       "    <tr>\n",
       "      <th>11</th>\n",
       "      <td>30.443310</td>\n",
       "      <td>NaN</td>\n",
       "    </tr>\n",
       "    <tr>\n",
       "      <th>12</th>\n",
       "      <td>40.124988</td>\n",
       "      <td>NaN</td>\n",
       "    </tr>\n",
       "  </tbody>\n",
       "</table>\n",
       "</div>"
      ],
      "text/plain": [
       "year        2019       2020\n",
       "month                      \n",
       "1      33.632553  28.086169\n",
       "2      39.355677  27.835847\n",
       "3      34.953442  15.810285\n",
       "4      34.416082        NaN\n",
       "5      37.814916        NaN\n",
       "6      42.810802        NaN\n",
       "7      39.054691        NaN\n",
       "8      38.250279        NaN\n",
       "9      29.632968        NaN\n",
       "10     32.758942        NaN\n",
       "11     30.443310        NaN\n",
       "12     40.124988        NaN"
      ]
     },
     "execution_count": 64,
     "metadata": {},
     "output_type": "execute_result"
    }
   ],
   "source": [
    "# Przekształcamy tabelę do formy tabeli przestawnej\n",
    "yoy_comparision_to_plot_df = yoy_comparision_df.pivot(index='month', columns='year', values='reliability')\n",
    "yoy_comparision_to_plot_df"
   ]
  },
  {
   "cell_type": "markdown",
   "metadata": {},
   "source": [
    " Tutaj stwórz odpowiedni wykres, zapisz do na później pod nazwą `yoy_comparision_fig`. Pamiętaj o dobrych praktykach - niech wykres posiada wszystkie opisy oraz opisowe etykiety osi."
   ]
  },
  {
   "cell_type": "code",
   "execution_count": 65,
   "metadata": {},
   "outputs": [
    {
     "data": {
      "text/html": [
       "\n",
       "        <iframe\n",
       "            width=\"100%\"\n",
       "            height=\"650\"\n",
       "            src=\"http://127.0.0.1:8050/\"\n",
       "            frameborder=\"0\"\n",
       "            allowfullscreen\n",
       "            \n",
       "        ></iframe>\n",
       "        "
      ],
      "text/plain": [
       "<IPython.lib.display.IFrame at 0x220737844d0>"
      ]
     },
     "metadata": {},
     "output_type": "display_data"
    }
   ],
   "source": [
    "# Tworzymy wykres słupkowy\n",
    "yoy_comparision_fig = px.bar(yoy_comparision_to_plot_df, x=yoy_comparision_to_plot_df.index, y=[2019, 2020], title=\"Porównanie niezawodności (2019 vs. 2020)\")\n",
    "\n",
    "# Dostosowujemy wykres\n",
    "yoy_comparision_fig.update_layout(\n",
    "    xaxis_title=\"Miesiąc\",\n",
    "    yaxis_title=\"Niezawodność\",\n",
    "    legend_title=\"Rok\",\n",
    "    barmode='group'\n",
    ")\n",
    "\n",
    "# Aktualizujemy wykres, aby wyświetlał wszystkie miesiące od 1 do 12 na osi x\n",
    "yoy_comparision_fig.update_xaxes(type='category', tickmode='array', tickvals=list(range(1, 13)), ticktext=['Styczeń', 'Luty', 'Marzec', 'Kwiecień', 'Maj', 'Czerwiec', 'Lipiec', 'Sierpień', 'Wrzesień', 'Październik', 'Listopad', 'Grudzień'])\n",
    "\n",
    "# Tworzymy aplikację Dash\n",
    "app = dash.Dash(__name__)\n",
    "\n",
    "# Definiujemy układ aplikacji\n",
    "app.layout = html.Div([\n",
    "    dcc.Graph(figure=yoy_comparision_fig)\n",
    "])\n",
    "\n",
    "# Uruchamiamy aplikację\n",
    "if __name__ == '__main__':\n",
    "    app.run_server(debug=True)"
   ]
  },
  {
   "cell_type": "markdown",
   "metadata": {},
   "source": [
    " # Porównanie dzień tygodnia do dnia tygodnia (WKoWK) 2019 vs. 2020\n",
    " Wykonaj analogiczne do poprzedniego kroku, używając jednak w tym momencie danych z widoku `reporting.day_to_day_comparision`"
   ]
  },
  {
   "cell_type": "markdown",
   "metadata": {},
   "source": [
    " Tutaj pobierz z widoku `reporting.day_to_day_comparision` dane do ramki `day_to_day_comparision_df`"
   ]
  },
  {
   "cell_type": "code",
   "execution_count": 66,
   "metadata": {},
   "outputs": [
    {
     "name": "stderr",
     "output_type": "stream",
     "text": [
      "C:\\Users\\User\\AppData\\Local\\Temp\\ipykernel_12748\\1921198026.py:5: UserWarning:\n",
      "\n",
      "pandas only supports SQLAlchemy connectable (engine/connection) or database string URI or sqlite3 DBAPI2 connection. Other DBAPI2 objects are not tested. Please consider using SQLAlchemy.\n",
      "\n"
     ]
    },
    {
     "data": {
      "text/html": [
       "<div>\n",
       "<style scoped>\n",
       "    .dataframe tbody tr th:only-of-type {\n",
       "        vertical-align: middle;\n",
       "    }\n",
       "\n",
       "    .dataframe tbody tr th {\n",
       "        vertical-align: top;\n",
       "    }\n",
       "\n",
       "    .dataframe thead th {\n",
       "        text-align: right;\n",
       "    }\n",
       "</style>\n",
       "<table border=\"1\" class=\"dataframe\">\n",
       "  <thead>\n",
       "    <tr style=\"text-align: right;\">\n",
       "      <th></th>\n",
       "      <th>year</th>\n",
       "      <th>day_of_week</th>\n",
       "      <th>flights_amount</th>\n",
       "    </tr>\n",
       "  </thead>\n",
       "  <tbody>\n",
       "    <tr>\n",
       "      <th>0</th>\n",
       "      <td>2019</td>\n",
       "      <td>1</td>\n",
       "      <td>167761</td>\n",
       "    </tr>\n",
       "    <tr>\n",
       "      <th>1</th>\n",
       "      <td>2019</td>\n",
       "      <td>2</td>\n",
       "      <td>165478</td>\n",
       "    </tr>\n",
       "    <tr>\n",
       "      <th>2</th>\n",
       "      <td>2019</td>\n",
       "      <td>3</td>\n",
       "      <td>163889</td>\n",
       "    </tr>\n",
       "    <tr>\n",
       "      <th>3</th>\n",
       "      <td>2019</td>\n",
       "      <td>4</td>\n",
       "      <td>166154</td>\n",
       "    </tr>\n",
       "    <tr>\n",
       "      <th>4</th>\n",
       "      <td>2019</td>\n",
       "      <td>5</td>\n",
       "      <td>167397</td>\n",
       "    </tr>\n",
       "  </tbody>\n",
       "</table>\n",
       "</div>"
      ],
      "text/plain": [
       "   year  day_of_week  flights_amount\n",
       "0  2019            1          167761\n",
       "1  2019            2          165478\n",
       "2  2019            3          163889\n",
       "3  2019            4          166154\n",
       "4  2019            5          167397"
      ]
     },
     "execution_count": 66,
     "metadata": {},
     "output_type": "execute_result"
    }
   ],
   "source": [
    "# Zdefiniuj zapytanie SQL, które pobierze dane z widoku\n",
    "query_3 = \"SELECT * FROM reporting.day_to_day_comparision\"\n",
    "\n",
    "# Wczytaj dane z widoku do ramki danych\n",
    "day_to_day_comparision_df = pd.read_sql_query(query_3, conn)\n",
    "\n",
    "\n",
    "# Wyświetl kilka pierwszych wierszy ramki danych\n",
    "day_to_day_comparision_df.head()"
   ]
  },
  {
   "cell_type": "markdown",
   "metadata": {},
   "source": [
    " Tutaj odpowiednio przekształć ramkę, do formy oczekiwanej przez wykres słupkowy. Wyniki zapisz do zmiennej `day_to_day_comparision_to_plot_df`"
   ]
  },
  {
   "cell_type": "code",
   "execution_count": 67,
   "metadata": {},
   "outputs": [
    {
     "data": {
      "text/html": [
       "<div>\n",
       "<style scoped>\n",
       "    .dataframe tbody tr th:only-of-type {\n",
       "        vertical-align: middle;\n",
       "    }\n",
       "\n",
       "    .dataframe tbody tr th {\n",
       "        vertical-align: top;\n",
       "    }\n",
       "\n",
       "    .dataframe thead th {\n",
       "        text-align: right;\n",
       "    }\n",
       "</style>\n",
       "<table border=\"1\" class=\"dataframe\">\n",
       "  <thead>\n",
       "    <tr style=\"text-align: right;\">\n",
       "      <th>year</th>\n",
       "      <th>2019</th>\n",
       "      <th>2020</th>\n",
       "    </tr>\n",
       "    <tr>\n",
       "      <th>day_of_week</th>\n",
       "      <th></th>\n",
       "      <th></th>\n",
       "    </tr>\n",
       "  </thead>\n",
       "  <tbody>\n",
       "    <tr>\n",
       "      <th>1</th>\n",
       "      <td>167761</td>\n",
       "      <td>40983</td>\n",
       "    </tr>\n",
       "    <tr>\n",
       "      <th>2</th>\n",
       "      <td>165478</td>\n",
       "      <td>39807</td>\n",
       "    </tr>\n",
       "    <tr>\n",
       "      <th>3</th>\n",
       "      <td>163889</td>\n",
       "      <td>39581</td>\n",
       "    </tr>\n",
       "    <tr>\n",
       "      <th>4</th>\n",
       "      <td>166154</td>\n",
       "      <td>41086</td>\n",
       "    </tr>\n",
       "    <tr>\n",
       "      <th>5</th>\n",
       "      <td>167397</td>\n",
       "      <td>41058</td>\n",
       "    </tr>\n",
       "    <tr>\n",
       "      <th>6</th>\n",
       "      <td>129485</td>\n",
       "      <td>30545</td>\n",
       "    </tr>\n",
       "    <tr>\n",
       "      <th>7</th>\n",
       "      <td>155663</td>\n",
       "      <td>37233</td>\n",
       "    </tr>\n",
       "  </tbody>\n",
       "</table>\n",
       "</div>"
      ],
      "text/plain": [
       "year           2019   2020\n",
       "day_of_week               \n",
       "1            167761  40983\n",
       "2            165478  39807\n",
       "3            163889  39581\n",
       "4            166154  41086\n",
       "5            167397  41058\n",
       "6            129485  30545\n",
       "7            155663  37233"
      ]
     },
     "execution_count": 67,
     "metadata": {},
     "output_type": "execute_result"
    }
   ],
   "source": [
    "# Przekształcamy tabelę do formy tabeli przestawnej\n",
    "day_to_day_comparision_to_plot_df = day_to_day_comparision_df.pivot(index='day_of_week', columns='year', values='flights_amount')\n",
    "day_to_day_comparision_to_plot_df"
   ]
  },
  {
   "cell_type": "markdown",
   "metadata": {},
   "source": [
    " Tutaj stwórz odpowiedni wykres, zapisz do na później pod nazwą `day_to_day_comparision_fig`. Pamiętaj o dobrych praktykach - niech wykres posiada wszystkie opisy oraz opisowe etykiety osi."
   ]
  },
  {
   "cell_type": "code",
   "execution_count": 68,
   "metadata": {},
   "outputs": [
    {
     "data": {
      "text/html": [
       "\n",
       "        <iframe\n",
       "            width=\"100%\"\n",
       "            height=\"650\"\n",
       "            src=\"http://127.0.0.1:8050/\"\n",
       "            frameborder=\"0\"\n",
       "            allowfullscreen\n",
       "            \n",
       "        ></iframe>\n",
       "        "
      ],
      "text/plain": [
       "<IPython.lib.display.IFrame at 0x22072849c50>"
      ]
     },
     "metadata": {},
     "output_type": "display_data"
    }
   ],
   "source": [
    "# Tworzymy wykres słupkowy\n",
    "day_to_day_comparision_fig = px.bar(day_to_day_comparision_to_plot_df, x=day_to_day_comparision_to_plot_df.index, y=[2019, 2020], title=\"Porównanie liczby lotów (2019 vs. 2020)\")\n",
    "\n",
    "# Dostosowujemy wykres\n",
    "day_to_day_comparision_fig.update_layout(\n",
    "    xaxis_title=\"Dzień tygodnia\",\n",
    "    yaxis_title=\"Liczba lotów\",\n",
    "    legend_title=\"Rok\",\n",
    "    barmode='group'\n",
    ")\n",
    "\n",
    "# Aktualizujemy wykres, aby wyświetlał nazwy dni tygodnia\n",
    "day_to_day_comparision_fig.update_xaxes(type='category', tickmode='array', tickvals=list(range(1, 8)), ticktext=['Poniedziałek', 'Wtorek', 'Środa', 'Czwartek', 'Piątek', 'Sobota', 'Niedziela'])\n",
    "\n",
    "# Tworzymy aplikację Dash\n",
    "app_day_to_day = dash.Dash(__name__)\n",
    "\n",
    "# Definiujemy układ aplikacji\n",
    "app_day_to_day.layout = html.Div([\n",
    "    dcc.Graph(figure=day_to_day_comparision_fig)\n",
    "])\n",
    "\n",
    "# Uruchamiamy aplikację\n",
    "if __name__ == '__main__':\n",
    "    app_day_to_day.run_server(debug=True)"
   ]
  },
  {
   "cell_type": "markdown",
   "metadata": {},
   "source": [
    " # Stworzenie szeregu czasowego\n",
    " W tym miejscu stworzymy wykres w formie szeregu czasowego, który zostanie umieszcony w raporcie. Wykres powinien przedstawiać dane w formie szeregu czasowego (dzień po dniu) dla lat 2019 oraz 2020. Dla możliwości identyfikacji poszczególnych lat, zostaliśmy dodatkowo poproszeni o nadanie innego koloru dla roku 2019 oraz 2020.\n",
    "\n",
    " > Pamiętaj o stworzeniu wykresu zgodnie z dobrymi praktykami."
   ]
  },
  {
   "cell_type": "markdown",
   "metadata": {},
   "source": [
    " W tym miejscu pobierz dane do ramki `day_by_day_reliability_df`, z widoku `reporting.day_by_day_reliability`."
   ]
  },
  {
   "cell_type": "code",
   "execution_count": 69,
   "metadata": {},
   "outputs": [
    {
     "name": "stderr",
     "output_type": "stream",
     "text": [
      "C:\\Users\\User\\AppData\\Local\\Temp\\ipykernel_12748\\1809363830.py:5: UserWarning:\n",
      "\n",
      "pandas only supports SQLAlchemy connectable (engine/connection) or database string URI or sqlite3 DBAPI2 connection. Other DBAPI2 objects are not tested. Please consider using SQLAlchemy.\n",
      "\n"
     ]
    },
    {
     "data": {
      "text/html": [
       "<div>\n",
       "<style scoped>\n",
       "    .dataframe tbody tr th:only-of-type {\n",
       "        vertical-align: middle;\n",
       "    }\n",
       "\n",
       "    .dataframe tbody tr th {\n",
       "        vertical-align: top;\n",
       "    }\n",
       "\n",
       "    .dataframe thead th {\n",
       "        text-align: right;\n",
       "    }\n",
       "</style>\n",
       "<table border=\"1\" class=\"dataframe\">\n",
       "  <thead>\n",
       "    <tr style=\"text-align: right;\">\n",
       "      <th></th>\n",
       "      <th>date</th>\n",
       "      <th>reliability</th>\n",
       "    </tr>\n",
       "  </thead>\n",
       "  <tbody>\n",
       "    <tr>\n",
       "      <th>0</th>\n",
       "      <td>2019-01-01</td>\n",
       "      <td>34.170976</td>\n",
       "    </tr>\n",
       "    <tr>\n",
       "      <th>1</th>\n",
       "      <td>2019-01-02</td>\n",
       "      <td>30.959054</td>\n",
       "    </tr>\n",
       "    <tr>\n",
       "      <th>2</th>\n",
       "      <td>2019-01-03</td>\n",
       "      <td>32.517764</td>\n",
       "    </tr>\n",
       "    <tr>\n",
       "      <th>3</th>\n",
       "      <td>2019-01-04</td>\n",
       "      <td>37.903068</td>\n",
       "    </tr>\n",
       "    <tr>\n",
       "      <th>4</th>\n",
       "      <td>2019-01-05</td>\n",
       "      <td>35.035959</td>\n",
       "    </tr>\n",
       "  </tbody>\n",
       "</table>\n",
       "</div>"
      ],
      "text/plain": [
       "         date  reliability\n",
       "0  2019-01-01    34.170976\n",
       "1  2019-01-02    30.959054\n",
       "2  2019-01-03    32.517764\n",
       "3  2019-01-04    37.903068\n",
       "4  2019-01-05    35.035959"
      ]
     },
     "execution_count": 69,
     "metadata": {},
     "output_type": "execute_result"
    }
   ],
   "source": [
    "# Zdefiniuj zapytanie SQL, które pobierze dane z widoku\n",
    "query_4 = \"SELECT * FROM reporting.day_by_day_reliability\"\n",
    "\n",
    "# Wczytaj dane z widoku do ramki danych\n",
    "day_by_day_reliability_df = pd.read_sql_query(query_4, conn)\n",
    "\n",
    "\n",
    "# Wyświetl kilka pierwszych wierszy ramki danych\n",
    "day_by_day_reliability_df.head()"
   ]
  },
  {
   "cell_type": "markdown",
   "metadata": {},
   "source": [
    " Tutaj stwórz wykres liniowy na podstawie pobranych danych. Wynik zapisz do zmiennej `day_by_day_reliability_fig`."
   ]
  },
  {
   "cell_type": "code",
   "execution_count": 70,
   "metadata": {},
   "outputs": [
    {
     "data": {
      "application/vnd.plotly.v1+json": {
       "config": {
        "plotlyServerURL": "https://plot.ly"
       },
       "data": [
        {
         "hovertemplate": "date=%{x}<br>reliability=%{y}<extra></extra>",
         "legendgroup": "",
         "line": {
          "color": "#636efa",
          "dash": "solid"
         },
         "marker": {
          "symbol": "circle"
         },
         "mode": "lines",
         "name": "",
         "orientation": "v",
         "showlegend": false,
         "type": "scatter",
         "x": [
          "2019-01-01T00:00:00",
          "2019-01-02T00:00:00",
          "2019-01-03T00:00:00",
          "2019-01-04T00:00:00",
          "2019-01-05T00:00:00",
          "2019-01-06T00:00:00",
          "2019-01-07T00:00:00",
          "2019-02-01T00:00:00",
          "2019-02-02T00:00:00",
          "2019-02-03T00:00:00",
          "2019-02-04T00:00:00",
          "2019-02-05T00:00:00",
          "2019-02-06T00:00:00",
          "2019-02-07T00:00:00",
          "2019-03-01T00:00:00",
          "2019-03-02T00:00:00",
          "2019-03-03T00:00:00",
          "2019-03-04T00:00:00",
          "2019-03-05T00:00:00",
          "2019-03-06T00:00:00",
          "2019-03-07T00:00:00",
          "2019-04-01T00:00:00",
          "2019-04-02T00:00:00",
          "2019-04-03T00:00:00",
          "2019-04-04T00:00:00",
          "2019-04-05T00:00:00",
          "2019-04-06T00:00:00",
          "2019-04-07T00:00:00",
          "2019-05-01T00:00:00",
          "2019-05-02T00:00:00",
          "2019-05-03T00:00:00",
          "2019-05-04T00:00:00",
          "2019-05-05T00:00:00",
          "2019-05-06T00:00:00",
          "2019-05-07T00:00:00",
          "2019-06-01T00:00:00",
          "2019-06-02T00:00:00",
          "2019-06-03T00:00:00",
          "2019-06-04T00:00:00",
          "2019-06-05T00:00:00",
          "2019-06-06T00:00:00",
          "2019-06-07T00:00:00",
          "2019-07-01T00:00:00",
          "2019-07-02T00:00:00",
          "2019-07-03T00:00:00",
          "2019-07-04T00:00:00",
          "2019-07-05T00:00:00",
          "2019-07-06T00:00:00",
          "2019-07-07T00:00:00",
          "2019-08-01T00:00:00",
          "2019-08-02T00:00:00",
          "2019-08-03T00:00:00",
          "2019-08-04T00:00:00",
          "2019-08-05T00:00:00",
          "2019-08-06T00:00:00",
          "2019-08-07T00:00:00",
          "2019-09-01T00:00:00",
          "2019-09-02T00:00:00",
          "2019-09-03T00:00:00",
          "2019-09-04T00:00:00",
          "2019-09-05T00:00:00",
          "2019-09-06T00:00:00",
          "2019-09-07T00:00:00",
          "2019-10-01T00:00:00",
          "2019-10-02T00:00:00",
          "2019-10-03T00:00:00",
          "2019-10-04T00:00:00",
          "2019-10-05T00:00:00",
          "2019-10-06T00:00:00",
          "2019-10-07T00:00:00",
          "2019-11-01T00:00:00",
          "2019-11-02T00:00:00",
          "2019-11-03T00:00:00",
          "2019-11-04T00:00:00",
          "2019-11-05T00:00:00",
          "2019-11-06T00:00:00",
          "2019-11-07T00:00:00",
          "2019-12-01T00:00:00",
          "2019-12-02T00:00:00",
          "2019-12-03T00:00:00",
          "2019-12-04T00:00:00",
          "2019-12-05T00:00:00",
          "2019-12-06T00:00:00",
          "2019-12-07T00:00:00",
          "2020-01-01T00:00:00",
          "2020-01-02T00:00:00",
          "2020-01-03T00:00:00",
          "2020-01-04T00:00:00",
          "2020-01-05T00:00:00",
          "2020-01-06T00:00:00",
          "2020-01-07T00:00:00",
          "2020-02-01T00:00:00",
          "2020-02-02T00:00:00",
          "2020-02-03T00:00:00",
          "2020-02-04T00:00:00",
          "2020-02-05T00:00:00",
          "2020-02-06T00:00:00",
          "2020-02-07T00:00:00",
          "2020-03-01T00:00:00",
          "2020-03-02T00:00:00",
          "2020-03-03T00:00:00",
          "2020-03-04T00:00:00",
          "2020-03-05T00:00:00",
          "2020-03-06T00:00:00",
          "2020-03-07T00:00:00"
         ],
         "xaxis": "x",
         "y": [
          34.170976082740786,
          30.95905393396678,
          32.517763775305,
          37.90306756491595,
          35.035959463877084,
          30.748898678414097,
          32.97336871968518,
          41.96285622798591,
          36.048627191531594,
          38.59736383984084,
          42.948461845785054,
          43.59321493987417,
          34.17035398230089,
          36.14424410540916,
          33.354168294398,
          28.81639814962514,
          30.765546419733376,
          35.92149503479553,
          40.48701500903033,
          36.22869260256097,
          37.17010274662548,
          40.92866504399925,
          29.27282038151325,
          27.344992050874403,
          33.87134502923977,
          41.11354052787756,
          30.986787778695295,
          36.047098402018506,
          37.709475635184184,
          35.215894868585735,
          34.02337436279995,
          43.50003053062221,
          40.213024954351795,
          33.01288607077112,
          38.67271016847687,
          42.633275849141484,
          42.56163651629647,
          42.27555825611423,
          44.91633525924814,
          40.98752521102562,
          40.579599908724425,
          45.2883808047536,
          39.22434656340755,
          38.464362190272254,
          37.83949858670272,
          39.18865383091673,
          40.745079662605434,
          37.318135483273096,
          40.79186055682625,
          35.527376676684014,
          36.72950329144225,
          38.39737861185582,
          44.19954276335072,
          39.59076293481438,
          33.975334957369064,
          37.250137179587675,
          29.5990638664778,
          27.67850051624176,
          27.17305568701688,
          34.501306285538654,
          32.26499003220365,
          25.783329920131067,
          29.379487874271778,
          32.29586789437638,
          27.298488664987406,
          31.291661426235695,
          37.765231418290114,
          38.547233722243135,
          27.113496000809963,
          33.915716250101106,
          30.8902170493866,
          30.040192926045016,
          30.166402535657685,
          31.87713310580205,
          33.17063518237583,
          29.82401495094222,
          26.571311810380056,
          44.31701030927835,
          37.08830210107893,
          39.35777453421482,
          38.824,
          39.594475931986906,
          38.53556900486159,
          41.811708860759495,
          27.205236688752294,
          21.2133752689952,
          22.783435166327223,
          29.35048231511254,
          31.90723967366866,
          34.157986111111114,
          31.377596307473816,
          24.71838806917341,
          22.056559436026255,
          23.425468104077165,
          41.330091757509216,
          32.89927831816755,
          24.232703311947287,
          25.158298403638632,
          13.71608832807571,
          12.604004160166406,
          15.238932395716796,
          16.018771998435668,
          20.591697402495488,
          15.997958141909137,
          17.452894130405316
         ],
         "yaxis": "y"
        }
       ],
       "layout": {
        "hovermode": "x unified",
        "legend": {
         "title": {
          "text": "Rok"
         },
         "tracegroupgap": 0
        },
        "shapes": [
         {
          "line": {
           "color": "red",
           "width": 2
          },
          "name": "2019",
          "type": "line",
          "x0": "2019-01-01",
          "x1": "2019-12-31",
          "y0": 0,
          "y1": 0
         },
         {
          "line": {
           "color": "blue",
           "width": 2
          },
          "name": "2020",
          "type": "line",
          "x0": "2020-01-01",
          "x1": "2020-12-31",
          "y0": 0,
          "y1": 0
         }
        ],
        "showlegend": true,
        "template": {
         "data": {
          "bar": [
           {
            "error_x": {
             "color": "#2a3f5f"
            },
            "error_y": {
             "color": "#2a3f5f"
            },
            "marker": {
             "line": {
              "color": "#E5ECF6",
              "width": 0.5
             },
             "pattern": {
              "fillmode": "overlay",
              "size": 10,
              "solidity": 0.2
             }
            },
            "type": "bar"
           }
          ],
          "barpolar": [
           {
            "marker": {
             "line": {
              "color": "#E5ECF6",
              "width": 0.5
             },
             "pattern": {
              "fillmode": "overlay",
              "size": 10,
              "solidity": 0.2
             }
            },
            "type": "barpolar"
           }
          ],
          "carpet": [
           {
            "aaxis": {
             "endlinecolor": "#2a3f5f",
             "gridcolor": "white",
             "linecolor": "white",
             "minorgridcolor": "white",
             "startlinecolor": "#2a3f5f"
            },
            "baxis": {
             "endlinecolor": "#2a3f5f",
             "gridcolor": "white",
             "linecolor": "white",
             "minorgridcolor": "white",
             "startlinecolor": "#2a3f5f"
            },
            "type": "carpet"
           }
          ],
          "choropleth": [
           {
            "colorbar": {
             "outlinewidth": 0,
             "ticks": ""
            },
            "type": "choropleth"
           }
          ],
          "contour": [
           {
            "colorbar": {
             "outlinewidth": 0,
             "ticks": ""
            },
            "colorscale": [
             [
              0,
              "#0d0887"
             ],
             [
              0.1111111111111111,
              "#46039f"
             ],
             [
              0.2222222222222222,
              "#7201a8"
             ],
             [
              0.3333333333333333,
              "#9c179e"
             ],
             [
              0.4444444444444444,
              "#bd3786"
             ],
             [
              0.5555555555555556,
              "#d8576b"
             ],
             [
              0.6666666666666666,
              "#ed7953"
             ],
             [
              0.7777777777777778,
              "#fb9f3a"
             ],
             [
              0.8888888888888888,
              "#fdca26"
             ],
             [
              1,
              "#f0f921"
             ]
            ],
            "type": "contour"
           }
          ],
          "contourcarpet": [
           {
            "colorbar": {
             "outlinewidth": 0,
             "ticks": ""
            },
            "type": "contourcarpet"
           }
          ],
          "heatmap": [
           {
            "colorbar": {
             "outlinewidth": 0,
             "ticks": ""
            },
            "colorscale": [
             [
              0,
              "#0d0887"
             ],
             [
              0.1111111111111111,
              "#46039f"
             ],
             [
              0.2222222222222222,
              "#7201a8"
             ],
             [
              0.3333333333333333,
              "#9c179e"
             ],
             [
              0.4444444444444444,
              "#bd3786"
             ],
             [
              0.5555555555555556,
              "#d8576b"
             ],
             [
              0.6666666666666666,
              "#ed7953"
             ],
             [
              0.7777777777777778,
              "#fb9f3a"
             ],
             [
              0.8888888888888888,
              "#fdca26"
             ],
             [
              1,
              "#f0f921"
             ]
            ],
            "type": "heatmap"
           }
          ],
          "heatmapgl": [
           {
            "colorbar": {
             "outlinewidth": 0,
             "ticks": ""
            },
            "colorscale": [
             [
              0,
              "#0d0887"
             ],
             [
              0.1111111111111111,
              "#46039f"
             ],
             [
              0.2222222222222222,
              "#7201a8"
             ],
             [
              0.3333333333333333,
              "#9c179e"
             ],
             [
              0.4444444444444444,
              "#bd3786"
             ],
             [
              0.5555555555555556,
              "#d8576b"
             ],
             [
              0.6666666666666666,
              "#ed7953"
             ],
             [
              0.7777777777777778,
              "#fb9f3a"
             ],
             [
              0.8888888888888888,
              "#fdca26"
             ],
             [
              1,
              "#f0f921"
             ]
            ],
            "type": "heatmapgl"
           }
          ],
          "histogram": [
           {
            "marker": {
             "pattern": {
              "fillmode": "overlay",
              "size": 10,
              "solidity": 0.2
             }
            },
            "type": "histogram"
           }
          ],
          "histogram2d": [
           {
            "colorbar": {
             "outlinewidth": 0,
             "ticks": ""
            },
            "colorscale": [
             [
              0,
              "#0d0887"
             ],
             [
              0.1111111111111111,
              "#46039f"
             ],
             [
              0.2222222222222222,
              "#7201a8"
             ],
             [
              0.3333333333333333,
              "#9c179e"
             ],
             [
              0.4444444444444444,
              "#bd3786"
             ],
             [
              0.5555555555555556,
              "#d8576b"
             ],
             [
              0.6666666666666666,
              "#ed7953"
             ],
             [
              0.7777777777777778,
              "#fb9f3a"
             ],
             [
              0.8888888888888888,
              "#fdca26"
             ],
             [
              1,
              "#f0f921"
             ]
            ],
            "type": "histogram2d"
           }
          ],
          "histogram2dcontour": [
           {
            "colorbar": {
             "outlinewidth": 0,
             "ticks": ""
            },
            "colorscale": [
             [
              0,
              "#0d0887"
             ],
             [
              0.1111111111111111,
              "#46039f"
             ],
             [
              0.2222222222222222,
              "#7201a8"
             ],
             [
              0.3333333333333333,
              "#9c179e"
             ],
             [
              0.4444444444444444,
              "#bd3786"
             ],
             [
              0.5555555555555556,
              "#d8576b"
             ],
             [
              0.6666666666666666,
              "#ed7953"
             ],
             [
              0.7777777777777778,
              "#fb9f3a"
             ],
             [
              0.8888888888888888,
              "#fdca26"
             ],
             [
              1,
              "#f0f921"
             ]
            ],
            "type": "histogram2dcontour"
           }
          ],
          "mesh3d": [
           {
            "colorbar": {
             "outlinewidth": 0,
             "ticks": ""
            },
            "type": "mesh3d"
           }
          ],
          "parcoords": [
           {
            "line": {
             "colorbar": {
              "outlinewidth": 0,
              "ticks": ""
             }
            },
            "type": "parcoords"
           }
          ],
          "pie": [
           {
            "automargin": true,
            "type": "pie"
           }
          ],
          "scatter": [
           {
            "fillpattern": {
             "fillmode": "overlay",
             "size": 10,
             "solidity": 0.2
            },
            "type": "scatter"
           }
          ],
          "scatter3d": [
           {
            "line": {
             "colorbar": {
              "outlinewidth": 0,
              "ticks": ""
             }
            },
            "marker": {
             "colorbar": {
              "outlinewidth": 0,
              "ticks": ""
             }
            },
            "type": "scatter3d"
           }
          ],
          "scattercarpet": [
           {
            "marker": {
             "colorbar": {
              "outlinewidth": 0,
              "ticks": ""
             }
            },
            "type": "scattercarpet"
           }
          ],
          "scattergeo": [
           {
            "marker": {
             "colorbar": {
              "outlinewidth": 0,
              "ticks": ""
             }
            },
            "type": "scattergeo"
           }
          ],
          "scattergl": [
           {
            "marker": {
             "colorbar": {
              "outlinewidth": 0,
              "ticks": ""
             }
            },
            "type": "scattergl"
           }
          ],
          "scattermapbox": [
           {
            "marker": {
             "colorbar": {
              "outlinewidth": 0,
              "ticks": ""
             }
            },
            "type": "scattermapbox"
           }
          ],
          "scatterpolar": [
           {
            "marker": {
             "colorbar": {
              "outlinewidth": 0,
              "ticks": ""
             }
            },
            "type": "scatterpolar"
           }
          ],
          "scatterpolargl": [
           {
            "marker": {
             "colorbar": {
              "outlinewidth": 0,
              "ticks": ""
             }
            },
            "type": "scatterpolargl"
           }
          ],
          "scatterternary": [
           {
            "marker": {
             "colorbar": {
              "outlinewidth": 0,
              "ticks": ""
             }
            },
            "type": "scatterternary"
           }
          ],
          "surface": [
           {
            "colorbar": {
             "outlinewidth": 0,
             "ticks": ""
            },
            "colorscale": [
             [
              0,
              "#0d0887"
             ],
             [
              0.1111111111111111,
              "#46039f"
             ],
             [
              0.2222222222222222,
              "#7201a8"
             ],
             [
              0.3333333333333333,
              "#9c179e"
             ],
             [
              0.4444444444444444,
              "#bd3786"
             ],
             [
              0.5555555555555556,
              "#d8576b"
             ],
             [
              0.6666666666666666,
              "#ed7953"
             ],
             [
              0.7777777777777778,
              "#fb9f3a"
             ],
             [
              0.8888888888888888,
              "#fdca26"
             ],
             [
              1,
              "#f0f921"
             ]
            ],
            "type": "surface"
           }
          ],
          "table": [
           {
            "cells": {
             "fill": {
              "color": "#EBF0F8"
             },
             "line": {
              "color": "white"
             }
            },
            "header": {
             "fill": {
              "color": "#C8D4E3"
             },
             "line": {
              "color": "white"
             }
            },
            "type": "table"
           }
          ]
         },
         "layout": {
          "annotationdefaults": {
           "arrowcolor": "#2a3f5f",
           "arrowhead": 0,
           "arrowwidth": 1
          },
          "autotypenumbers": "strict",
          "coloraxis": {
           "colorbar": {
            "outlinewidth": 0,
            "ticks": ""
           }
          },
          "colorscale": {
           "diverging": [
            [
             0,
             "#8e0152"
            ],
            [
             0.1,
             "#c51b7d"
            ],
            [
             0.2,
             "#de77ae"
            ],
            [
             0.3,
             "#f1b6da"
            ],
            [
             0.4,
             "#fde0ef"
            ],
            [
             0.5,
             "#f7f7f7"
            ],
            [
             0.6,
             "#e6f5d0"
            ],
            [
             0.7,
             "#b8e186"
            ],
            [
             0.8,
             "#7fbc41"
            ],
            [
             0.9,
             "#4d9221"
            ],
            [
             1,
             "#276419"
            ]
           ],
           "sequential": [
            [
             0,
             "#0d0887"
            ],
            [
             0.1111111111111111,
             "#46039f"
            ],
            [
             0.2222222222222222,
             "#7201a8"
            ],
            [
             0.3333333333333333,
             "#9c179e"
            ],
            [
             0.4444444444444444,
             "#bd3786"
            ],
            [
             0.5555555555555556,
             "#d8576b"
            ],
            [
             0.6666666666666666,
             "#ed7953"
            ],
            [
             0.7777777777777778,
             "#fb9f3a"
            ],
            [
             0.8888888888888888,
             "#fdca26"
            ],
            [
             1,
             "#f0f921"
            ]
           ],
           "sequentialminus": [
            [
             0,
             "#0d0887"
            ],
            [
             0.1111111111111111,
             "#46039f"
            ],
            [
             0.2222222222222222,
             "#7201a8"
            ],
            [
             0.3333333333333333,
             "#9c179e"
            ],
            [
             0.4444444444444444,
             "#bd3786"
            ],
            [
             0.5555555555555556,
             "#d8576b"
            ],
            [
             0.6666666666666666,
             "#ed7953"
            ],
            [
             0.7777777777777778,
             "#fb9f3a"
            ],
            [
             0.8888888888888888,
             "#fdca26"
            ],
            [
             1,
             "#f0f921"
            ]
           ]
          },
          "colorway": [
           "#636efa",
           "#EF553B",
           "#00cc96",
           "#ab63fa",
           "#FFA15A",
           "#19d3f3",
           "#FF6692",
           "#B6E880",
           "#FF97FF",
           "#FECB52"
          ],
          "font": {
           "color": "#2a3f5f"
          },
          "geo": {
           "bgcolor": "white",
           "lakecolor": "white",
           "landcolor": "#E5ECF6",
           "showlakes": true,
           "showland": true,
           "subunitcolor": "white"
          },
          "hoverlabel": {
           "align": "left"
          },
          "hovermode": "closest",
          "mapbox": {
           "style": "light"
          },
          "paper_bgcolor": "white",
          "plot_bgcolor": "#E5ECF6",
          "polar": {
           "angularaxis": {
            "gridcolor": "white",
            "linecolor": "white",
            "ticks": ""
           },
           "bgcolor": "#E5ECF6",
           "radialaxis": {
            "gridcolor": "white",
            "linecolor": "white",
            "ticks": ""
           }
          },
          "scene": {
           "xaxis": {
            "backgroundcolor": "#E5ECF6",
            "gridcolor": "white",
            "gridwidth": 2,
            "linecolor": "white",
            "showbackground": true,
            "ticks": "",
            "zerolinecolor": "white"
           },
           "yaxis": {
            "backgroundcolor": "#E5ECF6",
            "gridcolor": "white",
            "gridwidth": 2,
            "linecolor": "white",
            "showbackground": true,
            "ticks": "",
            "zerolinecolor": "white"
           },
           "zaxis": {
            "backgroundcolor": "#E5ECF6",
            "gridcolor": "white",
            "gridwidth": 2,
            "linecolor": "white",
            "showbackground": true,
            "ticks": "",
            "zerolinecolor": "white"
           }
          },
          "shapedefaults": {
           "line": {
            "color": "#2a3f5f"
           }
          },
          "ternary": {
           "aaxis": {
            "gridcolor": "white",
            "linecolor": "white",
            "ticks": ""
           },
           "baxis": {
            "gridcolor": "white",
            "linecolor": "white",
            "ticks": ""
           },
           "bgcolor": "#E5ECF6",
           "caxis": {
            "gridcolor": "white",
            "linecolor": "white",
            "ticks": ""
           }
          },
          "title": {
           "x": 0.05
          },
          "xaxis": {
           "automargin": true,
           "gridcolor": "white",
           "linecolor": "white",
           "ticks": "",
           "title": {
            "standoff": 15
           },
           "zerolinecolor": "white",
           "zerolinewidth": 2
          },
          "yaxis": {
           "automargin": true,
           "gridcolor": "white",
           "linecolor": "white",
           "ticks": "",
           "title": {
            "standoff": 15
           },
           "zerolinecolor": "white",
           "zerolinewidth": 2
          }
         }
        },
        "title": {
         "text": "Niezawodność (2019 vs. 2020)"
        },
        "xaxis": {
         "anchor": "y",
         "domain": [
          0,
          1
         ],
         "title": {
          "text": "Data"
         }
        },
        "yaxis": {
         "anchor": "x",
         "domain": [
          0,
          1
         ],
         "title": {
          "text": "Niezawodność"
         }
        }
       }
      },
      "text/html": [
       "<div>                            <div id=\"6785fad7-1a26-4066-ac30-e1c4c35b42d8\" class=\"plotly-graph-div\" style=\"height:525px; width:100%;\"></div>            <script type=\"text/javascript\">                require([\"plotly\"], function(Plotly) {                    window.PLOTLYENV=window.PLOTLYENV || {};                                    if (document.getElementById(\"6785fad7-1a26-4066-ac30-e1c4c35b42d8\")) {                    Plotly.newPlot(                        \"6785fad7-1a26-4066-ac30-e1c4c35b42d8\",                        [{\"hovertemplate\":\"date=%{x}\\u003cbr\\u003ereliability=%{y}\\u003cextra\\u003e\\u003c\\u002fextra\\u003e\",\"legendgroup\":\"\",\"line\":{\"color\":\"#636efa\",\"dash\":\"solid\"},\"marker\":{\"symbol\":\"circle\"},\"mode\":\"lines\",\"name\":\"\",\"orientation\":\"v\",\"showlegend\":false,\"x\":[\"2019-01-01T00:00:00\",\"2019-01-02T00:00:00\",\"2019-01-03T00:00:00\",\"2019-01-04T00:00:00\",\"2019-01-05T00:00:00\",\"2019-01-06T00:00:00\",\"2019-01-07T00:00:00\",\"2019-02-01T00:00:00\",\"2019-02-02T00:00:00\",\"2019-02-03T00:00:00\",\"2019-02-04T00:00:00\",\"2019-02-05T00:00:00\",\"2019-02-06T00:00:00\",\"2019-02-07T00:00:00\",\"2019-03-01T00:00:00\",\"2019-03-02T00:00:00\",\"2019-03-03T00:00:00\",\"2019-03-04T00:00:00\",\"2019-03-05T00:00:00\",\"2019-03-06T00:00:00\",\"2019-03-07T00:00:00\",\"2019-04-01T00:00:00\",\"2019-04-02T00:00:00\",\"2019-04-03T00:00:00\",\"2019-04-04T00:00:00\",\"2019-04-05T00:00:00\",\"2019-04-06T00:00:00\",\"2019-04-07T00:00:00\",\"2019-05-01T00:00:00\",\"2019-05-02T00:00:00\",\"2019-05-03T00:00:00\",\"2019-05-04T00:00:00\",\"2019-05-05T00:00:00\",\"2019-05-06T00:00:00\",\"2019-05-07T00:00:00\",\"2019-06-01T00:00:00\",\"2019-06-02T00:00:00\",\"2019-06-03T00:00:00\",\"2019-06-04T00:00:00\",\"2019-06-05T00:00:00\",\"2019-06-06T00:00:00\",\"2019-06-07T00:00:00\",\"2019-07-01T00:00:00\",\"2019-07-02T00:00:00\",\"2019-07-03T00:00:00\",\"2019-07-04T00:00:00\",\"2019-07-05T00:00:00\",\"2019-07-06T00:00:00\",\"2019-07-07T00:00:00\",\"2019-08-01T00:00:00\",\"2019-08-02T00:00:00\",\"2019-08-03T00:00:00\",\"2019-08-04T00:00:00\",\"2019-08-05T00:00:00\",\"2019-08-06T00:00:00\",\"2019-08-07T00:00:00\",\"2019-09-01T00:00:00\",\"2019-09-02T00:00:00\",\"2019-09-03T00:00:00\",\"2019-09-04T00:00:00\",\"2019-09-05T00:00:00\",\"2019-09-06T00:00:00\",\"2019-09-07T00:00:00\",\"2019-10-01T00:00:00\",\"2019-10-02T00:00:00\",\"2019-10-03T00:00:00\",\"2019-10-04T00:00:00\",\"2019-10-05T00:00:00\",\"2019-10-06T00:00:00\",\"2019-10-07T00:00:00\",\"2019-11-01T00:00:00\",\"2019-11-02T00:00:00\",\"2019-11-03T00:00:00\",\"2019-11-04T00:00:00\",\"2019-11-05T00:00:00\",\"2019-11-06T00:00:00\",\"2019-11-07T00:00:00\",\"2019-12-01T00:00:00\",\"2019-12-02T00:00:00\",\"2019-12-03T00:00:00\",\"2019-12-04T00:00:00\",\"2019-12-05T00:00:00\",\"2019-12-06T00:00:00\",\"2019-12-07T00:00:00\",\"2020-01-01T00:00:00\",\"2020-01-02T00:00:00\",\"2020-01-03T00:00:00\",\"2020-01-04T00:00:00\",\"2020-01-05T00:00:00\",\"2020-01-06T00:00:00\",\"2020-01-07T00:00:00\",\"2020-02-01T00:00:00\",\"2020-02-02T00:00:00\",\"2020-02-03T00:00:00\",\"2020-02-04T00:00:00\",\"2020-02-05T00:00:00\",\"2020-02-06T00:00:00\",\"2020-02-07T00:00:00\",\"2020-03-01T00:00:00\",\"2020-03-02T00:00:00\",\"2020-03-03T00:00:00\",\"2020-03-04T00:00:00\",\"2020-03-05T00:00:00\",\"2020-03-06T00:00:00\",\"2020-03-07T00:00:00\"],\"xaxis\":\"x\",\"y\":[34.170976082740786,30.95905393396678,32.517763775305,37.90306756491595,35.035959463877084,30.748898678414097,32.97336871968518,41.96285622798591,36.048627191531594,38.59736383984084,42.948461845785054,43.59321493987417,34.17035398230089,36.14424410540916,33.354168294398,28.81639814962514,30.765546419733376,35.92149503479553,40.48701500903033,36.22869260256097,37.17010274662548,40.92866504399925,29.27282038151325,27.344992050874403,33.87134502923977,41.11354052787756,30.986787778695295,36.047098402018506,37.709475635184184,35.215894868585735,34.02337436279995,43.50003053062221,40.213024954351795,33.01288607077112,38.67271016847687,42.633275849141484,42.56163651629647,42.27555825611423,44.91633525924814,40.98752521102562,40.579599908724425,45.2883808047536,39.22434656340755,38.464362190272254,37.83949858670272,39.18865383091673,40.745079662605434,37.318135483273096,40.79186055682625,35.527376676684014,36.72950329144225,38.39737861185582,44.19954276335072,39.59076293481438,33.975334957369064,37.250137179587675,29.5990638664778,27.67850051624176,27.17305568701688,34.501306285538654,32.26499003220365,25.783329920131067,29.379487874271778,32.29586789437638,27.298488664987406,31.291661426235695,37.765231418290114,38.547233722243135,27.113496000809963,33.915716250101106,30.8902170493866,30.040192926045016,30.166402535657685,31.87713310580205,33.17063518237583,29.82401495094222,26.571311810380056,44.31701030927835,37.08830210107893,39.35777453421482,38.824,39.594475931986906,38.53556900486159,41.811708860759495,27.205236688752294,21.2133752689952,22.783435166327223,29.35048231511254,31.90723967366866,34.157986111111114,31.377596307473816,24.71838806917341,22.056559436026255,23.425468104077165,41.330091757509216,32.89927831816755,24.232703311947287,25.158298403638632,13.71608832807571,12.604004160166406,15.238932395716796,16.018771998435668,20.591697402495488,15.997958141909137,17.452894130405316],\"yaxis\":\"y\",\"type\":\"scatter\"}],                        {\"template\":{\"data\":{\"histogram2dcontour\":[{\"type\":\"histogram2dcontour\",\"colorbar\":{\"outlinewidth\":0,\"ticks\":\"\"},\"colorscale\":[[0.0,\"#0d0887\"],[0.1111111111111111,\"#46039f\"],[0.2222222222222222,\"#7201a8\"],[0.3333333333333333,\"#9c179e\"],[0.4444444444444444,\"#bd3786\"],[0.5555555555555556,\"#d8576b\"],[0.6666666666666666,\"#ed7953\"],[0.7777777777777778,\"#fb9f3a\"],[0.8888888888888888,\"#fdca26\"],[1.0,\"#f0f921\"]]}],\"choropleth\":[{\"type\":\"choropleth\",\"colorbar\":{\"outlinewidth\":0,\"ticks\":\"\"}}],\"histogram2d\":[{\"type\":\"histogram2d\",\"colorbar\":{\"outlinewidth\":0,\"ticks\":\"\"},\"colorscale\":[[0.0,\"#0d0887\"],[0.1111111111111111,\"#46039f\"],[0.2222222222222222,\"#7201a8\"],[0.3333333333333333,\"#9c179e\"],[0.4444444444444444,\"#bd3786\"],[0.5555555555555556,\"#d8576b\"],[0.6666666666666666,\"#ed7953\"],[0.7777777777777778,\"#fb9f3a\"],[0.8888888888888888,\"#fdca26\"],[1.0,\"#f0f921\"]]}],\"heatmap\":[{\"type\":\"heatmap\",\"colorbar\":{\"outlinewidth\":0,\"ticks\":\"\"},\"colorscale\":[[0.0,\"#0d0887\"],[0.1111111111111111,\"#46039f\"],[0.2222222222222222,\"#7201a8\"],[0.3333333333333333,\"#9c179e\"],[0.4444444444444444,\"#bd3786\"],[0.5555555555555556,\"#d8576b\"],[0.6666666666666666,\"#ed7953\"],[0.7777777777777778,\"#fb9f3a\"],[0.8888888888888888,\"#fdca26\"],[1.0,\"#f0f921\"]]}],\"heatmapgl\":[{\"type\":\"heatmapgl\",\"colorbar\":{\"outlinewidth\":0,\"ticks\":\"\"},\"colorscale\":[[0.0,\"#0d0887\"],[0.1111111111111111,\"#46039f\"],[0.2222222222222222,\"#7201a8\"],[0.3333333333333333,\"#9c179e\"],[0.4444444444444444,\"#bd3786\"],[0.5555555555555556,\"#d8576b\"],[0.6666666666666666,\"#ed7953\"],[0.7777777777777778,\"#fb9f3a\"],[0.8888888888888888,\"#fdca26\"],[1.0,\"#f0f921\"]]}],\"contourcarpet\":[{\"type\":\"contourcarpet\",\"colorbar\":{\"outlinewidth\":0,\"ticks\":\"\"}}],\"contour\":[{\"type\":\"contour\",\"colorbar\":{\"outlinewidth\":0,\"ticks\":\"\"},\"colorscale\":[[0.0,\"#0d0887\"],[0.1111111111111111,\"#46039f\"],[0.2222222222222222,\"#7201a8\"],[0.3333333333333333,\"#9c179e\"],[0.4444444444444444,\"#bd3786\"],[0.5555555555555556,\"#d8576b\"],[0.6666666666666666,\"#ed7953\"],[0.7777777777777778,\"#fb9f3a\"],[0.8888888888888888,\"#fdca26\"],[1.0,\"#f0f921\"]]}],\"surface\":[{\"type\":\"surface\",\"colorbar\":{\"outlinewidth\":0,\"ticks\":\"\"},\"colorscale\":[[0.0,\"#0d0887\"],[0.1111111111111111,\"#46039f\"],[0.2222222222222222,\"#7201a8\"],[0.3333333333333333,\"#9c179e\"],[0.4444444444444444,\"#bd3786\"],[0.5555555555555556,\"#d8576b\"],[0.6666666666666666,\"#ed7953\"],[0.7777777777777778,\"#fb9f3a\"],[0.8888888888888888,\"#fdca26\"],[1.0,\"#f0f921\"]]}],\"mesh3d\":[{\"type\":\"mesh3d\",\"colorbar\":{\"outlinewidth\":0,\"ticks\":\"\"}}],\"scatter\":[{\"fillpattern\":{\"fillmode\":\"overlay\",\"size\":10,\"solidity\":0.2},\"type\":\"scatter\"}],\"parcoords\":[{\"type\":\"parcoords\",\"line\":{\"colorbar\":{\"outlinewidth\":0,\"ticks\":\"\"}}}],\"scatterpolargl\":[{\"type\":\"scatterpolargl\",\"marker\":{\"colorbar\":{\"outlinewidth\":0,\"ticks\":\"\"}}}],\"bar\":[{\"error_x\":{\"color\":\"#2a3f5f\"},\"error_y\":{\"color\":\"#2a3f5f\"},\"marker\":{\"line\":{\"color\":\"#E5ECF6\",\"width\":0.5},\"pattern\":{\"fillmode\":\"overlay\",\"size\":10,\"solidity\":0.2}},\"type\":\"bar\"}],\"scattergeo\":[{\"type\":\"scattergeo\",\"marker\":{\"colorbar\":{\"outlinewidth\":0,\"ticks\":\"\"}}}],\"scatterpolar\":[{\"type\":\"scatterpolar\",\"marker\":{\"colorbar\":{\"outlinewidth\":0,\"ticks\":\"\"}}}],\"histogram\":[{\"marker\":{\"pattern\":{\"fillmode\":\"overlay\",\"size\":10,\"solidity\":0.2}},\"type\":\"histogram\"}],\"scattergl\":[{\"type\":\"scattergl\",\"marker\":{\"colorbar\":{\"outlinewidth\":0,\"ticks\":\"\"}}}],\"scatter3d\":[{\"type\":\"scatter3d\",\"line\":{\"colorbar\":{\"outlinewidth\":0,\"ticks\":\"\"}},\"marker\":{\"colorbar\":{\"outlinewidth\":0,\"ticks\":\"\"}}}],\"scattermapbox\":[{\"type\":\"scattermapbox\",\"marker\":{\"colorbar\":{\"outlinewidth\":0,\"ticks\":\"\"}}}],\"scatterternary\":[{\"type\":\"scatterternary\",\"marker\":{\"colorbar\":{\"outlinewidth\":0,\"ticks\":\"\"}}}],\"scattercarpet\":[{\"type\":\"scattercarpet\",\"marker\":{\"colorbar\":{\"outlinewidth\":0,\"ticks\":\"\"}}}],\"carpet\":[{\"aaxis\":{\"endlinecolor\":\"#2a3f5f\",\"gridcolor\":\"white\",\"linecolor\":\"white\",\"minorgridcolor\":\"white\",\"startlinecolor\":\"#2a3f5f\"},\"baxis\":{\"endlinecolor\":\"#2a3f5f\",\"gridcolor\":\"white\",\"linecolor\":\"white\",\"minorgridcolor\":\"white\",\"startlinecolor\":\"#2a3f5f\"},\"type\":\"carpet\"}],\"table\":[{\"cells\":{\"fill\":{\"color\":\"#EBF0F8\"},\"line\":{\"color\":\"white\"}},\"header\":{\"fill\":{\"color\":\"#C8D4E3\"},\"line\":{\"color\":\"white\"}},\"type\":\"table\"}],\"barpolar\":[{\"marker\":{\"line\":{\"color\":\"#E5ECF6\",\"width\":0.5},\"pattern\":{\"fillmode\":\"overlay\",\"size\":10,\"solidity\":0.2}},\"type\":\"barpolar\"}],\"pie\":[{\"automargin\":true,\"type\":\"pie\"}]},\"layout\":{\"autotypenumbers\":\"strict\",\"colorway\":[\"#636efa\",\"#EF553B\",\"#00cc96\",\"#ab63fa\",\"#FFA15A\",\"#19d3f3\",\"#FF6692\",\"#B6E880\",\"#FF97FF\",\"#FECB52\"],\"font\":{\"color\":\"#2a3f5f\"},\"hovermode\":\"closest\",\"hoverlabel\":{\"align\":\"left\"},\"paper_bgcolor\":\"white\",\"plot_bgcolor\":\"#E5ECF6\",\"polar\":{\"bgcolor\":\"#E5ECF6\",\"angularaxis\":{\"gridcolor\":\"white\",\"linecolor\":\"white\",\"ticks\":\"\"},\"radialaxis\":{\"gridcolor\":\"white\",\"linecolor\":\"white\",\"ticks\":\"\"}},\"ternary\":{\"bgcolor\":\"#E5ECF6\",\"aaxis\":{\"gridcolor\":\"white\",\"linecolor\":\"white\",\"ticks\":\"\"},\"baxis\":{\"gridcolor\":\"white\",\"linecolor\":\"white\",\"ticks\":\"\"},\"caxis\":{\"gridcolor\":\"white\",\"linecolor\":\"white\",\"ticks\":\"\"}},\"coloraxis\":{\"colorbar\":{\"outlinewidth\":0,\"ticks\":\"\"}},\"colorscale\":{\"sequential\":[[0.0,\"#0d0887\"],[0.1111111111111111,\"#46039f\"],[0.2222222222222222,\"#7201a8\"],[0.3333333333333333,\"#9c179e\"],[0.4444444444444444,\"#bd3786\"],[0.5555555555555556,\"#d8576b\"],[0.6666666666666666,\"#ed7953\"],[0.7777777777777778,\"#fb9f3a\"],[0.8888888888888888,\"#fdca26\"],[1.0,\"#f0f921\"]],\"sequentialminus\":[[0.0,\"#0d0887\"],[0.1111111111111111,\"#46039f\"],[0.2222222222222222,\"#7201a8\"],[0.3333333333333333,\"#9c179e\"],[0.4444444444444444,\"#bd3786\"],[0.5555555555555556,\"#d8576b\"],[0.6666666666666666,\"#ed7953\"],[0.7777777777777778,\"#fb9f3a\"],[0.8888888888888888,\"#fdca26\"],[1.0,\"#f0f921\"]],\"diverging\":[[0,\"#8e0152\"],[0.1,\"#c51b7d\"],[0.2,\"#de77ae\"],[0.3,\"#f1b6da\"],[0.4,\"#fde0ef\"],[0.5,\"#f7f7f7\"],[0.6,\"#e6f5d0\"],[0.7,\"#b8e186\"],[0.8,\"#7fbc41\"],[0.9,\"#4d9221\"],[1,\"#276419\"]]},\"xaxis\":{\"gridcolor\":\"white\",\"linecolor\":\"white\",\"ticks\":\"\",\"title\":{\"standoff\":15},\"zerolinecolor\":\"white\",\"automargin\":true,\"zerolinewidth\":2},\"yaxis\":{\"gridcolor\":\"white\",\"linecolor\":\"white\",\"ticks\":\"\",\"title\":{\"standoff\":15},\"zerolinecolor\":\"white\",\"automargin\":true,\"zerolinewidth\":2},\"scene\":{\"xaxis\":{\"backgroundcolor\":\"#E5ECF6\",\"gridcolor\":\"white\",\"linecolor\":\"white\",\"showbackground\":true,\"ticks\":\"\",\"zerolinecolor\":\"white\",\"gridwidth\":2},\"yaxis\":{\"backgroundcolor\":\"#E5ECF6\",\"gridcolor\":\"white\",\"linecolor\":\"white\",\"showbackground\":true,\"ticks\":\"\",\"zerolinecolor\":\"white\",\"gridwidth\":2},\"zaxis\":{\"backgroundcolor\":\"#E5ECF6\",\"gridcolor\":\"white\",\"linecolor\":\"white\",\"showbackground\":true,\"ticks\":\"\",\"zerolinecolor\":\"white\",\"gridwidth\":2}},\"shapedefaults\":{\"line\":{\"color\":\"#2a3f5f\"}},\"annotationdefaults\":{\"arrowcolor\":\"#2a3f5f\",\"arrowhead\":0,\"arrowwidth\":1},\"geo\":{\"bgcolor\":\"white\",\"landcolor\":\"#E5ECF6\",\"subunitcolor\":\"white\",\"showland\":true,\"showlakes\":true,\"lakecolor\":\"white\"},\"title\":{\"x\":0.05},\"mapbox\":{\"style\":\"light\"}}},\"xaxis\":{\"anchor\":\"y\",\"domain\":[0.0,1.0],\"title\":{\"text\":\"Data\"}},\"yaxis\":{\"anchor\":\"x\",\"domain\":[0.0,1.0],\"title\":{\"text\":\"Niezawodno\\u015b\\u0107\"}},\"legend\":{\"tracegroupgap\":0,\"title\":{\"text\":\"Rok\"}},\"title\":{\"text\":\"Niezawodno\\u015b\\u0107 (2019 vs. 2020)\"},\"showlegend\":true,\"hovermode\":\"x unified\",\"shapes\":[{\"line\":{\"color\":\"red\",\"width\":2},\"name\":\"2019\",\"type\":\"line\",\"x0\":\"2019-01-01\",\"x1\":\"2019-12-31\",\"y0\":0,\"y1\":0},{\"line\":{\"color\":\"blue\",\"width\":2},\"name\":\"2020\",\"type\":\"line\",\"x0\":\"2020-01-01\",\"x1\":\"2020-12-31\",\"y0\":0,\"y1\":0}]},                        {\"responsive\": true}                    ).then(function(){\n",
       "                            \n",
       "var gd = document.getElementById('6785fad7-1a26-4066-ac30-e1c4c35b42d8');\n",
       "var x = new MutationObserver(function (mutations, observer) {{\n",
       "        var display = window.getComputedStyle(gd).display;\n",
       "        if (!display || display === 'none') {{\n",
       "            console.log([gd, 'removed!']);\n",
       "            Plotly.purge(gd);\n",
       "            observer.disconnect();\n",
       "        }}\n",
       "}});\n",
       "\n",
       "// Listen for the removal of the full notebook cells\n",
       "var notebookContainer = gd.closest('#notebook-container');\n",
       "if (notebookContainer) {{\n",
       "    x.observe(notebookContainer, {childList: true});\n",
       "}}\n",
       "\n",
       "// Listen for the clearing of the current output cell\n",
       "var outputEl = gd.closest('.output');\n",
       "if (outputEl) {{\n",
       "    x.observe(outputEl, {childList: true});\n",
       "}}\n",
       "\n",
       "                        })                };                });            </script>        </div>"
      ]
     },
     "metadata": {},
     "output_type": "display_data"
    }
   ],
   "source": [
    "# Konwertujemy kolumnę 'date' na typ daty\n",
    "day_by_day_reliability_df['date'] = pd.to_datetime(day_by_day_reliability_df['date'])\n",
    "\n",
    "# Tworzymy wykres liniowy\n",
    "fig_day_by_day = px.line(day_by_day_reliability_df, x='date', y='reliability', title=\"Niezawodność (2019 vs. 2020)\")\n",
    "\n",
    "# Dostosowujemy wykres\n",
    "fig_day_by_day.update_layout(\n",
    "    xaxis_title=\"Data\",\n",
    "    yaxis_title=\"Niezawodność\",\n",
    "    legend_title=\"Rok\",\n",
    "    showlegend=True,\n",
    "    template=\"plotly\",\n",
    "    hovermode=\"x unified\"\n",
    ")\n",
    "\n",
    "# Dodajemy oznaczenie roku 2019 i 2020\n",
    "fig_day_by_day.add_shape(\n",
    "    type=\"line\",\n",
    "    x0=\"2019-01-01\",\n",
    "    x1=\"2019-12-31\",\n",
    "    y0=0,\n",
    "    y1=0,\n",
    "    line=dict(color=\"red\", width=2),\n",
    "    name=\"2019\"\n",
    ")\n",
    "\n",
    "fig_day_by_day.add_shape(\n",
    "    type=\"line\",\n",
    "    x0=\"2020-01-01\",\n",
    "    x1=\"2020-12-31\",\n",
    "    y0=0,\n",
    "    y1=0,\n",
    "    line=dict(color=\"blue\", width=2),\n",
    "    name=\"2020\"\n",
    ")\n",
    "\n",
    "# Zapisujemy wykres do zmiennej day_by_day_reliability_fig\n",
    "day_by_day_reliability_fig = fig_day_by_day\n",
    "\n",
    "day_by_day_reliability_fig.show()"
   ]
  },
  {
   "cell_type": "markdown",
   "metadata": {},
   "source": [
    " # Stworzenie layoutów poszczególnych stron"
   ]
  },
  {
   "cell_type": "markdown",
   "metadata": {},
   "source": [
    " ## Stworzenie layout dla widoku `TOP 10 routes`\n",
    " W tym momencie przekonwertujemy zmienną `top_routes_df` w postać `Dash.DataTable`. Dodatkowo, dla czytelności, dodamy nagłówek opisujący co tabela przedstawia.\n",
    "\n",
    " Nagłówek wystylizuj używając poniższych wymagań:\n",
    " - tag: `H3`,\n",
    " - czcionka: `verdana`,\n",
    " - kolor: '#4444`,\n",
    " - tekst do wyświetlenia: `TOP 10 reliability routes in 2019 and 2020`\n",
    "\n",
    "Wskazówki:\n",
    " - `Wizualizacja danych > Dzień 3 > Dash`,\n",
    " - `Wizualizacja danych > Dzień 3 > Dash - datatable`,\n",
    " - Dokmentacja metody `Pandas` - [to_dict](https://pandas.pydata.org/docs/reference/api/pandas.DataFrame.to_dict.html)."
   ]
  },
  {
   "cell_type": "markdown",
   "metadata": {},
   "source": [
    " Tutaj przygotuj komponent `Dash` `DataTable`, zapisując wynik do zmiennej `top_routes_table`"
   ]
  },
  {
   "cell_type": "code",
   "execution_count": 78,
   "metadata": {},
   "outputs": [
    {
     "data": {
      "text/plain": [
       "DataTable(data=[{'Origin': 'CHICAGO OHARE INTERNATIONAL AIRPORT, IL US', 'Destination': 'LAGUARDIA AIRPORT, NY US', 'year': 2019, 'reliability': '40%', 'Rank': 1}, {'Origin': 'LOS ANGELES INTERNATIONAL AIRPORT, CA US', 'Destination': 'LAGUARDIA AIRPORT, NY US', 'year': 2019, 'reliability': '38%', 'Rank': 2}, {'Origin': 'LOS ANGELES INTERNATIONAL AIRPORT, CA US', 'Destination': 'MCCARRAN INTERNATIONAL AIRPORT, NV US', 'year': 2019, 'reliability': '37%', 'Rank': 3}, {'Origin': 'MCCARRAN INTERNATIONAL AIRPORT, NV US', 'Destination': 'LOS ANGELES INTERNATIONAL AIRPORT, CA US', 'year': 2019, 'reliability': '36%', 'Rank': 4}, {'Origin': 'LOS ANGELES INTERNATIONAL AIRPORT, CA US', 'Destination': 'SAN FRANCISCO INTERNATIONAL AIRPORT, CA US', 'year': 2019, 'reliability': '35%', 'Rank': 5}, {'Origin': 'LAGUARDIA AIRPORT, NY US', 'Destination': 'CHICAGO OHARE INTERNATIONAL AIRPORT, IL US', 'year': 2019, 'reliability': '35%', 'Rank': 6}, {'Origin': 'BOSTON, MA US', 'Destination': 'LAGUARDIA AIRPORT, NY US', 'year': 2019, 'reliability': '34%', 'Rank': 7}, {'Origin': 'LAGUARDIA AIRPORT, NY US', 'Destination': 'BOSTON, MA US', 'year': 2019, 'reliability': '34%', 'Rank': 8}, {'Origin': 'SAN FRANCISCO INTERNATIONAL AIRPORT, CA US', 'Destination': 'LOS ANGELES INTERNATIONAL AIRPORT, CA US', 'year': 2019, 'reliability': '33%', 'Rank': 9}, {'Origin': 'LAGUARDIA AIRPORT, NY US', 'Destination': 'LOS ANGELES INTERNATIONAL AIRPORT, CA US', 'year': 2019, 'reliability': '27%', 'Rank': 10}], columns=[{'name': 'Origin', 'id': 'Origin'}, {'name': 'Destination', 'id': 'Destination'}, {'name': 'Year', 'id': 'year'}, {'name': 'Reliability', 'id': 'reliability'}, {'name': 'Rank', 'id': 'Rank'}], id='top-routes-table')"
      ]
     },
     "execution_count": 78,
     "metadata": {},
     "output_type": "execute_result"
    }
   ],
   "source": [
    "top_routes_table = dash_table.DataTable(\n",
    "        id='top-routes-table',\n",
    "        columns=[\n",
    "            {'name': 'Origin', 'id': 'Origin'},\n",
    "            {'name': 'Destination', 'id': 'Destination'},\n",
    "            {'name': 'Year', 'id': 'year'},\n",
    "            {'name': 'Reliability', 'id': 'reliability'},\n",
    "            {'name': 'Rank', 'id': 'Rank'}\n",
    "        ],\n",
    "        data=top_routes_layout.to_dict('records')\n",
    "    )\n",
    "top_routes_table"
   ]
  },
  {
   "cell_type": "markdown",
   "metadata": {},
   "source": [
    " Tutaj przygotuj nagłówek dla tabeli, zapisz go pod nazwą `top_routes_page_title`"
   ]
  },
  {
   "cell_type": "code",
   "execution_count": 79,
   "metadata": {},
   "outputs": [],
   "source": [
    "# Definiowanie nagłówka dla tabeli\n",
    "top_routes_page_title = html.H3(\n",
    "            \"TOP 10 reliability routes in 2019 and 2020\",\n",
    "            style={\"fontFamily\": \"verdana\",\"color\": \"#4444\"},\n",
    ")"
   ]
  },
  {
   "cell_type": "markdown",
   "metadata": {},
   "source": [
    " Tutaj przygotuj layout dla widoku `TOP 10 routes`. Konfigurację zapisz do zmiennej `top_routes_layout`"
   ]
  },
  {
   "cell_type": "code",
   "execution_count": 103,
   "metadata": {},
   "outputs": [
    {
     "data": {
      "text/html": [
       "\n",
       "        <iframe\n",
       "            width=\"100%\"\n",
       "            height=\"650\"\n",
       "            src=\"http://127.0.0.1:8050/\"\n",
       "            frameborder=\"0\"\n",
       "            allowfullscreen\n",
       "            \n",
       "        ></iframe>\n",
       "        "
      ],
      "text/plain": [
       "<IPython.lib.display.IFrame at 0x22073cef350>"
      ]
     },
     "metadata": {},
     "output_type": "display_data"
    }
   ],
   "source": [
    "# Sample data (replace with your actual data)\n",
    "top_routes_layout = pd.DataFrame({\n",
    "    'Origin': [\n",
    "        'CHICAGO OHARE INTERNATIONAL AIRPORT, IL US',\n",
    "        'LOS ANGELES INTERNATIONAL AIRPORT, CA US',\n",
    "        'LOS ANGELES INTERNATIONAL AIRPORT, CA US',\n",
    "        'MCCARRAN INTERNATIONAL AIRPORT, NV US',\n",
    "        'LOS ANGELES INTERNATIONAL AIRPORT, CA US',\n",
    "        'LAGUARDIA AIRPORT, NY US',\n",
    "        'BOSTON, MA US',\n",
    "        'LAGUARDIA AIRPORT, NY US',\n",
    "        'SAN FRANCISCO INTERNATIONAL AIRPORT, CA US',\n",
    "        'LAGUARDIA AIRPORT, NY US'\n",
    "    ],\n",
    "    'Destination': [\n",
    "        'LAGUARDIA AIRPORT, NY US',\n",
    "        'LAGUARDIA AIRPORT, NY US',\n",
    "        'MCCARRAN INTERNATIONAL AIRPORT, NV US',\n",
    "        'LOS ANGELES INTERNATIONAL AIRPORT, CA US',\n",
    "        'SAN FRANCISCO INTERNATIONAL AIRPORT, CA US',\n",
    "        'CHICAGO OHARE INTERNATIONAL AIRPORT, IL US',\n",
    "        'LAGUARDIA AIRPORT, NY US',\n",
    "        'BOSTON, MA US',\n",
    "        'LOS ANGELES INTERNATIONAL AIRPORT, CA US',\n",
    "        'LOS ANGELES INTERNATIONAL AIRPORT, CA US'\n",
    "    ],\n",
    "    'year': [2019] * 10,\n",
    "    'reliability': ['40%', '38%', '37%', '36%', '35%', '35%', '34%', '34%', '33%', '27%'],\n",
    "    'Rank': [1, 2, 3, 4, 5, 6, 7, 8, 9, 10]\n",
    "})\n",
    "\n",
    "# Create a Dash app\n",
    "app = dash.Dash(__name__)\n",
    "\n",
    "# Define the layout\n",
    "app.layout = dash.html.Div([\n",
    "    dash.html.H3(\"TOP 10 niezawodnych tras w 2019 i 2020\"),\n",
    "    dash_table.DataTable(\n",
    "        id='top-routes-table',\n",
    "        columns=[\n",
    "            {'name': 'Wylot z', 'id': 'Origin'},\n",
    "            {'name': 'Destynacja', 'id': 'Destination'},\n",
    "            {'name': 'Rok', 'id': 'year'},\n",
    "            {'name': 'Niezawodność', 'id': 'reliability'},\n",
    "            {'name': 'Ranking', 'id': 'Rank'}\n",
    "        ],\n",
    "        data=top_routes_layout.to_dict('records')\n",
    "    )\n",
    "])\n",
    "\n",
    "\n",
    "if __name__ == '__main__':\n",
    "    app.run_server(debug=True)"
   ]
  },
  {
   "cell_type": "markdown",
   "metadata": {},
   "source": [
    " ## Stworzenie layout dla widoku `Comparision`\n",
    " W tym momencie opakujemy zmienne `yoy_comparision_fig` oraz `day_to_day_comparision_fig` do komponentów `Dash`, a następnie stworzymy odpowiedni `layout` dla strony `comparision`. Wyniki zapiszemy do zmiennej `comparision_layout`."
   ]
  },
  {
   "cell_type": "markdown",
   "metadata": {},
   "source": [
    " Tutaj opakuj `yoy_comparision_fig` w odpowiedni komponent `Dash`. Wynik zapisz do zmiennej `yoy_comparision_component`."
   ]
  },
  {
   "cell_type": "code",
   "execution_count": 81,
   "metadata": {},
   "outputs": [],
   "source": [
    "yoy_comparision_component = dcc.Graph(figure=yoy_comparision_fig)"
   ]
  },
  {
   "cell_type": "markdown",
   "metadata": {},
   "source": [
    " Tutaj opakuj `day_to_day_comparision_fig` w odpowiedni komponent `Dash`. Wynik zapisz do zmiennej `day_to_day_comparision_component`."
   ]
  },
  {
   "cell_type": "code",
   "execution_count": 82,
   "metadata": {},
   "outputs": [],
   "source": [
    "day_to_day_comparision_component = dcc.Graph(figure=day_to_day_comparision_fig)"
   ]
  },
  {
   "cell_type": "markdown",
   "metadata": {},
   "source": [
    " Tutaj stwórz odpowiedni `layout` dla widoku `comparision`. Wynik zapisz do zmiennej `comparision_layout`."
   ]
  },
  {
   "cell_type": "code",
   "execution_count": 83,
   "metadata": {},
   "outputs": [
    {
     "data": {
      "text/html": [
       "\n",
       "        <iframe\n",
       "            width=\"100%\"\n",
       "            height=\"650\"\n",
       "            src=\"http://127.0.0.1:8050/\"\n",
       "            frameborder=\"0\"\n",
       "            allowfullscreen\n",
       "            \n",
       "        ></iframe>\n",
       "        "
      ],
      "text/plain": [
       "<IPython.lib.display.IFrame at 0x220737819d0>"
      ]
     },
     "metadata": {},
     "output_type": "display_data"
    }
   ],
   "source": [
    "# Tworzymy aplikację Dash\n",
    "app = dash.Dash(__name__)\n",
    "\n",
    "# Definiujemy układ aplikacji\n",
    "comparision_layout = html.Div([\n",
    "    dcc.Graph(figure=yoy_comparision_fig),\n",
    "    dcc.Graph(figure=day_to_day_comparision_fig)\n",
    "])\n",
    "\n",
    "# Przypisujemy układ do aplikacji\n",
    "app.layout = comparision_layout\n",
    "\n",
    "# Uruchamiamy aplikację\n",
    "if __name__ == '__main__':\n",
    "    app.run_server(debug=True)"
   ]
  },
  {
   "cell_type": "markdown",
   "metadata": {},
   "source": [
    " Tutaj stwórz odpowiedni `layout` dla widoku `day by day`. Wynik zapisz do zmiennej `day_by_day_layout`."
   ]
  },
  {
   "cell_type": "code",
   "execution_count": 97,
   "metadata": {},
   "outputs": [
    {
     "data": {
      "text/html": [
       "\n",
       "        <iframe\n",
       "            width=\"100%\"\n",
       "            height=\"650\"\n",
       "            src=\"http://127.0.0.1:8050/\"\n",
       "            frameborder=\"0\"\n",
       "            allowfullscreen\n",
       "            \n",
       "        ></iframe>\n",
       "        "
      ],
      "text/plain": [
       "<IPython.lib.display.IFrame at 0x22073b20450>"
      ]
     },
     "metadata": {},
     "output_type": "display_data"
    }
   ],
   "source": [
    "# Tworzymy aplikację Dash\n",
    "app = dash.Dash(__name__)\n",
    "\n",
    "# Definiujemy układ aplikacji\n",
    "day_by_day_layout = html.Div([\n",
    "    dcc.Graph(figure=day_by_day_reliability_fig)\n",
    "])\n",
    "\n",
    "# Przypisujemy układ do aplikacji\n",
    "app.layout = day_by_day_layout\n",
    "\n",
    "# Uruchamiamy aplikację\n",
    "if __name__ == '__main__':\n",
    "    app.run_server(debug=True)"
   ]
  },
  {
   "cell_type": "markdown",
   "metadata": {},
   "source": [
    " # Konfigurowanie aplikacji\n",
    " Posiadamy już wszystkie niezbędne komponenty do stworzenia oraz uruchomienia aplikacji. Naszym zadaniem w tym miejscu będzie odpowiednie jej skonfigurowanie, aby obsługiwała więcej niż jedną stronę.\n",
    "\n",
    " Chcemy, aby możliwe było poruszanie się pomiędzy poniższymi stronami:\n",
    " - `TOP report` - strona domyślna,\n",
    " - `Comparision` - strona dostępna pod adresem: `comparision_reporting`,\n",
    " - `Day by day reporting` - strona dostępna pod adresem: `day_by_day_reporting`\n",
    "\n",
    "Wskazówki:\n",
    " - `Wizualizacja danych > Dzień 4 > Callback context`,\n",
    " - `Wizualizacja danych > Dzień 4 > Aplikacja multipage`.\n",
    " - Używając komponentu [html.Button](https://community.plotly.com/t/button-with-link/11809), możesz łatwo stworzyć ładniejsze linki do poszczególnych stron."
   ]
  },
  {
   "cell_type": "markdown",
   "metadata": {},
   "source": [
    " Tutaj przygotuj layout aplikacji"
   ]
  },
  {
   "cell_type": "code",
   "execution_count": 110,
   "metadata": {},
   "outputs": [
    {
     "data": {
      "text/html": [
       "\n",
       "        <iframe\n",
       "            width=\"100%\"\n",
       "            height=\"650\"\n",
       "            src=\"http://127.0.0.1:8050/\"\n",
       "            frameborder=\"0\"\n",
       "            allowfullscreen\n",
       "            \n",
       "        ></iframe>\n",
       "        "
      ],
      "text/plain": [
       "<IPython.lib.display.IFrame at 0x22073ad5350>"
      ]
     },
     "metadata": {},
     "output_type": "display_data"
    }
   ],
   "source": [
    "# Sample data (replace with your actual data)\n",
    "top_routes_layout = pd.DataFrame({\n",
    "    'Origin': [\n",
    "        'CHICAGO OHARE INTERNATIONAL AIRPORT, IL US',\n",
    "        'LOS ANGELES INTERNATIONAL AIRPORT, CA US',\n",
    "        'LOS ANGELES INTERNATIONAL AIRPORT, CA US',\n",
    "        'MCCARRAN INTERNATIONAL AIRPORT, NV US',\n",
    "        'LOS ANGELES INTERNATIONAL AIRPORT, CA US',\n",
    "        'LAGUARDIA AIRPORT, NY US',\n",
    "        'BOSTON, MA US',\n",
    "        'LAGUARDIA AIRPORT, NY US',\n",
    "        'SAN FRANCISCO INTERNATIONAL AIRPORT, CA US',\n",
    "        'LAGUARDIA AIRPORT, NY US'\n",
    "    ],\n",
    "    'Destination': [\n",
    "        'LAGUARDIA AIRPORT, NY US',\n",
    "        'LAGUARDIA AIRPORT, NY US',\n",
    "        'MCCARRAN INTERNATIONAL AIRPORT, NV US',\n",
    "        'LOS ANGELES INTERNATIONAL AIRPORT, CA US',\n",
    "        'SAN FRANCISCO INTERNATIONAL AIRPORT, CA US',\n",
    "        'CHICAGO OHARE INTERNATIONAL AIRPORT, IL US',\n",
    "        'LAGUARDIA AIRPORT, NY US',\n",
    "        'BOSTON, MA US',\n",
    "        'LOS ANGELES INTERNATIONAL AIRPORT, CA US',\n",
    "        'LOS ANGELES INTERNATIONAL AIRPORT, CA US'\n",
    "    ],\n",
    "    'year': [2019] * 10,\n",
    "    'reliability': ['40%', '38%', '37%', '36%', '35%', '35%', '34%', '34%', '33%', '27%'],\n",
    "    'Rank': [1, 2, 3, 4, 5, 6, 7, 8, 9, 10]\n",
    "})\n",
    "\n",
    "# Create a Dash app\n",
    "app = dash.Dash(__name__)\n",
    "\n",
    "# Define the layout for the TOP report page\n",
    "top_report_layout = dash.html.Div([\n",
    "    dash.html.H3(\"TOP 10 niezawodnych tras w 2019 i 2020\"),\n",
    "    dash_table.DataTable(\n",
    "        id='top-routes-table',\n",
    "        columns=[\n",
    "            {'name': 'Wylot z', 'id': 'Origin'},\n",
    "            {'name': 'Destynacja', 'id': 'Destination'},\n",
    "            {'name': 'Rok', 'id': 'year'},\n",
    "            {'name': 'Niezawodność', 'id': 'reliability'},\n",
    "            {'name': 'Ranking', 'id': 'Rank'}\n",
    "        ],\n",
    "        data=top_routes_layout.to_dict('records')\n",
    "    )\n",
    "])\n",
    "\n",
    "# Define the layout for the Comparision page\n",
    "comparision_layout = html.Div([\n",
    "    dcc.Graph(figure=yoy_comparision_fig),\n",
    "    dcc.Graph(figure=day_to_day_comparision_fig)\n",
    "])\n",
    "\n",
    "# Define the layout for the Day by day reporting page\n",
    "day_by_day_layout = html.Div([\n",
    "    dcc.Graph(figure=day_by_day_reliability_fig)\n",
    "])\n",
    "\n",
    "# Define the app's navigation\n",
    "app.layout = html.Div([\n",
    "    dcc.Location(id='url', refresh=False),\n",
    "    html.Div([\n",
    "        dcc.Link('TOP report', href='/'),\n",
    "        html.Br(),\n",
    "        dcc.Link('Comparision', href='/comparision_reporting'),\n",
    "        html.Br(),\n",
    "        dcc.Link('Day by day reporting', href='/day_by_day_reporting'),\n",
    "    ]),\n",
    "    html.Div(id='page-content'),\n",
    "])\n",
    "\n",
    "# Callback to update the page content based on the URL\n",
    "@app.callback(Output('page-content', 'children'),\n",
    "              Input('url', 'pathname'))\n",
    "def display_page(pathname):\n",
    "    if pathname == '/comparision_reporting':\n",
    "        return comparision_layout\n",
    "    elif pathname == '/day_by_day_reporting':\n",
    "        return day_by_day_layout\n",
    "    else:\n",
    "        return top_report_layout\n",
    "\n",
    "def open_browser():\n",
    "    webbrowser.open_new('http://127.0.0.1:8050/')\n",
    "\n",
    "if __name__ == '__main__':\n",
    "    threading.Timer(1, open_browser).start()\n",
    "    app.run_server(debug=True)"
   ]
  },
  {
   "cell_type": "markdown",
   "metadata": {},
   "source": [
    " # Podsumowanie\n",
    " W tym notatniku stworzyliśmy zgodnie z wymaganiami raport do dyspozycji osób decyzyjnych. Kod źródłowy może w tym momencie zostać przekazany dalej, do działu IT, który następnie wdroży rozwiązanie na serwer dostępny dla każdej zainteresowanej osoby. W praktyce oznacza to koniec naszej pracy nad tym zadaniem. Choć warto dodać, że często po udostępnieniu raportu pojawiają się dodatkowe wymagania oraz komentarze ze względu na informacje, które są tam zawarte.\n",
    "\n",
    " W kolejnym notatniku podsumujemy sobie cały warsztat."
   ]
  }
 ],
 "metadata": {
  "kernelspec": {
   "display_name": "Python 3 (ipykernel)",
   "language": "python",
   "name": "python3"
  },
  "language_info": {
   "codemirror_mode": {
    "name": "ipython",
    "version": 3
   },
   "file_extension": ".py",
   "mimetype": "text/x-python",
   "name": "python",
   "nbconvert_exporter": "python",
   "pygments_lexer": "ipython3",
   "version": "3.11.5"
  },
  "vscode": {
   "interpreter": {
    "hash": "38d75d0df746d7f75dd34c5d1915af59cb55786647bd68b8d9064425d7680b12"
   }
  }
 },
 "nbformat": 4,
 "nbformat_minor": 2
}
